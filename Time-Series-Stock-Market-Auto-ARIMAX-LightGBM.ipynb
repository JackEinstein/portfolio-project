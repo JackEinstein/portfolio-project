{
 "cells": [
  {
   "cell_type": "code",
   "execution_count": 1,
   "id": "6745799a",
   "metadata": {},
   "outputs": [],
   "source": [
    "import lightgbm as lgb\n",
    "import numpy as np\n",
    "import pandas as pd\n",
    "\n",
    "from matplotlib import pyplot as plt\n",
    "from pmdarima import auto_arima\n",
    "from sklearn.metrics import mean_absolute_error, mean_squared_error\n",
    "\n",
    "myfavouritenumber = 13\n",
    "seed = myfavouritenumber\n",
    "np.random.seed(seed)"
   ]
  },
  {
   "cell_type": "markdown",
   "id": "6eac46a7",
   "metadata": {},
   "source": [
    "**Time Series** is a class of data science problems where the primary values of interest are a series of data points measured over a period of time. This notebook aims to provide the basic building blocks of some of the more modern algorithms / techniques (and data!) for solving these types of problems.\n",
    "\n",
    "Is ARIMA the first thing you think of when you hear about time series? It might be time to explore other ventures and methodologies. There is a lot of new innovation and modern techniques being actively developed and some of them are outperforming the traditional ARIMA models. We'll look at some of these models and try to apply them on stock market data to predict price.\n",
    "\n",
    "Models explored in this notebook:\n",
    "\n",
    "1. Auto ARIMAX\n",
    "2. LightGBM"
   ]
  },
  {
   "cell_type": "markdown",
   "id": "76eedf24",
   "metadata": {},
   "source": [
    "**Nifty-50 Stock Market Data**\n",
    "\n",
    "The dataset used is stock market data of the Nifty-50 index from NSE (National Stock Exchange) India over the last 20 years (2000 - 2019)\n",
    "\n",
    "The historic VWAP (Volume Weighted Average Price) is the target variable to predict. VWAP is a trading benchmark used by traders that gives the average price the stock has traded at throughout the day, based on both volume and price.\n",
    "Read more about the dataset: https://www.kaggle.com/rohanrao/nifty50-stock-market-data\n",
    "\n",
    "The stock used is BAJAJFINSV."
   ]
  },
  {
   "cell_type": "markdown",
   "id": "2bf37ed3",
   "metadata": {},
   "source": [
    "### Data Preparation\n",
    "\n",
    "Reading the market data of BAJAJFINSV stock and preparing a training dataset and validation dataset."
   ]
  },
  {
   "cell_type": "code",
   "execution_count": 2,
   "id": "797c87e8",
   "metadata": {},
   "outputs": [
    {
     "data": {
      "text/html": [
       "<div>\n",
       "<style scoped>\n",
       "    .dataframe tbody tr th:only-of-type {\n",
       "        vertical-align: middle;\n",
       "    }\n",
       "\n",
       "    .dataframe tbody tr th {\n",
       "        vertical-align: top;\n",
       "    }\n",
       "\n",
       "    .dataframe thead th {\n",
       "        text-align: right;\n",
       "    }\n",
       "</style>\n",
       "<table border=\"1\" class=\"dataframe\">\n",
       "  <thead>\n",
       "    <tr style=\"text-align: right;\">\n",
       "      <th></th>\n",
       "      <th>Date</th>\n",
       "      <th>Symbol</th>\n",
       "      <th>Series</th>\n",
       "      <th>Prev Close</th>\n",
       "      <th>Open</th>\n",
       "      <th>High</th>\n",
       "      <th>Low</th>\n",
       "      <th>Last</th>\n",
       "      <th>Close</th>\n",
       "      <th>VWAP</th>\n",
       "      <th>Volume</th>\n",
       "      <th>Turnover</th>\n",
       "      <th>Trades</th>\n",
       "      <th>Deliverable Volume</th>\n",
       "      <th>%Deliverble</th>\n",
       "    </tr>\n",
       "    <tr>\n",
       "      <th>Date</th>\n",
       "      <th></th>\n",
       "      <th></th>\n",
       "      <th></th>\n",
       "      <th></th>\n",
       "      <th></th>\n",
       "      <th></th>\n",
       "      <th></th>\n",
       "      <th></th>\n",
       "      <th></th>\n",
       "      <th></th>\n",
       "      <th></th>\n",
       "      <th></th>\n",
       "      <th></th>\n",
       "      <th></th>\n",
       "      <th></th>\n",
       "    </tr>\n",
       "  </thead>\n",
       "  <tbody>\n",
       "    <tr>\n",
       "      <th>2008-05-26</th>\n",
       "      <td>2008-05-26</td>\n",
       "      <td>BAJAJFINSV</td>\n",
       "      <td>EQ</td>\n",
       "      <td>2101.05</td>\n",
       "      <td>600.00</td>\n",
       "      <td>619.00</td>\n",
       "      <td>501.0</td>\n",
       "      <td>505.1</td>\n",
       "      <td>509.10</td>\n",
       "      <td>548.85</td>\n",
       "      <td>3145446</td>\n",
       "      <td>1.726368e+14</td>\n",
       "      <td>NaN</td>\n",
       "      <td>908264</td>\n",
       "      <td>0.2888</td>\n",
       "    </tr>\n",
       "    <tr>\n",
       "      <th>2008-05-27</th>\n",
       "      <td>2008-05-27</td>\n",
       "      <td>BAJAJFINSV</td>\n",
       "      <td>EQ</td>\n",
       "      <td>509.10</td>\n",
       "      <td>505.00</td>\n",
       "      <td>610.95</td>\n",
       "      <td>491.1</td>\n",
       "      <td>564.0</td>\n",
       "      <td>554.65</td>\n",
       "      <td>572.15</td>\n",
       "      <td>4349144</td>\n",
       "      <td>2.488370e+14</td>\n",
       "      <td>NaN</td>\n",
       "      <td>677627</td>\n",
       "      <td>0.1558</td>\n",
       "    </tr>\n",
       "    <tr>\n",
       "      <th>2008-05-28</th>\n",
       "      <td>2008-05-28</td>\n",
       "      <td>BAJAJFINSV</td>\n",
       "      <td>EQ</td>\n",
       "      <td>554.65</td>\n",
       "      <td>564.00</td>\n",
       "      <td>665.60</td>\n",
       "      <td>564.0</td>\n",
       "      <td>643.0</td>\n",
       "      <td>640.95</td>\n",
       "      <td>618.37</td>\n",
       "      <td>4588759</td>\n",
       "      <td>2.837530e+14</td>\n",
       "      <td>NaN</td>\n",
       "      <td>774895</td>\n",
       "      <td>0.1689</td>\n",
       "    </tr>\n",
       "    <tr>\n",
       "      <th>2008-05-29</th>\n",
       "      <td>2008-05-29</td>\n",
       "      <td>BAJAJFINSV</td>\n",
       "      <td>EQ</td>\n",
       "      <td>640.95</td>\n",
       "      <td>656.65</td>\n",
       "      <td>703.00</td>\n",
       "      <td>608.0</td>\n",
       "      <td>634.5</td>\n",
       "      <td>632.40</td>\n",
       "      <td>659.60</td>\n",
       "      <td>4522302</td>\n",
       "      <td>2.982921e+14</td>\n",
       "      <td>NaN</td>\n",
       "      <td>1006161</td>\n",
       "      <td>0.2225</td>\n",
       "    </tr>\n",
       "    <tr>\n",
       "      <th>2008-05-30</th>\n",
       "      <td>2008-05-30</td>\n",
       "      <td>BAJAJFINSV</td>\n",
       "      <td>EQ</td>\n",
       "      <td>632.40</td>\n",
       "      <td>642.40</td>\n",
       "      <td>668.00</td>\n",
       "      <td>588.3</td>\n",
       "      <td>647.0</td>\n",
       "      <td>644.00</td>\n",
       "      <td>636.41</td>\n",
       "      <td>3057669</td>\n",
       "      <td>1.945929e+14</td>\n",
       "      <td>NaN</td>\n",
       "      <td>462832</td>\n",
       "      <td>0.1514</td>\n",
       "    </tr>\n",
       "  </tbody>\n",
       "</table>\n",
       "</div>"
      ],
      "text/plain": [
       "                  Date      Symbol Series  Prev Close    Open    High    Low  \\\n",
       "Date                                                                           \n",
       "2008-05-26  2008-05-26  BAJAJFINSV     EQ     2101.05  600.00  619.00  501.0   \n",
       "2008-05-27  2008-05-27  BAJAJFINSV     EQ      509.10  505.00  610.95  491.1   \n",
       "2008-05-28  2008-05-28  BAJAJFINSV     EQ      554.65  564.00  665.60  564.0   \n",
       "2008-05-29  2008-05-29  BAJAJFINSV     EQ      640.95  656.65  703.00  608.0   \n",
       "2008-05-30  2008-05-30  BAJAJFINSV     EQ      632.40  642.40  668.00  588.3   \n",
       "\n",
       "             Last   Close    VWAP   Volume      Turnover  Trades  \\\n",
       "Date                                                               \n",
       "2008-05-26  505.1  509.10  548.85  3145446  1.726368e+14     NaN   \n",
       "2008-05-27  564.0  554.65  572.15  4349144  2.488370e+14     NaN   \n",
       "2008-05-28  643.0  640.95  618.37  4588759  2.837530e+14     NaN   \n",
       "2008-05-29  634.5  632.40  659.60  4522302  2.982921e+14     NaN   \n",
       "2008-05-30  647.0  644.00  636.41  3057669  1.945929e+14     NaN   \n",
       "\n",
       "            Deliverable Volume  %Deliverble  \n",
       "Date                                         \n",
       "2008-05-26              908264       0.2888  \n",
       "2008-05-27              677627       0.1558  \n",
       "2008-05-28              774895       0.1689  \n",
       "2008-05-29             1006161       0.2225  \n",
       "2008-05-30              462832       0.1514  "
      ]
     },
     "execution_count": 2,
     "metadata": {},
     "output_type": "execute_result"
    }
   ],
   "source": [
    "df = pd.read_csv(\"BAJAJFINSV.csv\")\n",
    "df.set_index(\"Date\", drop=False, inplace=True)\n",
    "df.head()"
   ]
  },
  {
   "cell_type": "markdown",
   "id": "68ddb61e",
   "metadata": {},
   "source": [
    "Plotting the target variable VWAP over time"
   ]
  },
  {
   "cell_type": "code",
   "execution_count": 3,
   "id": "18af7929",
   "metadata": {},
   "outputs": [
    {
     "data": {
      "text/plain": [
       "<AxesSubplot:xlabel='Date'>"
      ]
     },
     "execution_count": 3,
     "metadata": {},
     "output_type": "execute_result"
    },
    {
     "data": {
      "image/png": "[encoded data removed]",
      "text/plain": [
       "<Figure size 1008x504 with 1 Axes>"
      ]
     },
     "metadata": {
      "needs_background": "light"
     },
     "output_type": "display_data"
    }
   ],
   "source": [
    "df.VWAP.plot(figsize=(14, 7))"
   ]
  },
  {
   "cell_type": "markdown",
   "id": "38b042e2",
   "metadata": {},
   "source": [
    "### Feature Engineering\n",
    "\n",
    "Almost every time series problem will have some external features or some internal feature engineering to help the model.\n",
    "\n",
    "Let's add some basic features like lag values of available numeric features that are widely used for time series problems. Since we need to predict the price of the stock for a day, we cannot use the feature values of the same day since they will be unavailable at actual inference time. We need to use statistics like mean, standard deviation of their lagged values.\n",
    "\n",
    "We will use three sets of lagged values, one previous day, one looking back 7 days and another looking back 30 days as a proxy for last week and last month metrics."
   ]
  },
  {
   "cell_type": "code",
   "execution_count": 4,
   "id": "bcc67c4f",
   "metadata": {},
   "outputs": [
    {
     "name": "stderr",
     "output_type": "stream",
     "text": [
      "C:\\Users\\Lenovo\\AppData\\Local\\Temp\\ipykernel_13164\\3792767483.py:28: FutureWarning: Dropping of nuisance columns in DataFrame reductions (with 'numeric_only=None') is deprecated; in a future version this will raise TypeError.  Select only valid columns before calling the reduction.\n",
      "  df.fillna(df.mean(), inplace=True)\n"
     ]
    },
    {
     "data": {
      "text/html": [
       "<div>\n",
       "<style scoped>\n",
       "    .dataframe tbody tr th:only-of-type {\n",
       "        vertical-align: middle;\n",
       "    }\n",
       "\n",
       "    .dataframe tbody tr th {\n",
       "        vertical-align: top;\n",
       "    }\n",
       "\n",
       "    .dataframe thead th {\n",
       "        text-align: right;\n",
       "    }\n",
       "</style>\n",
       "<table border=\"1\" class=\"dataframe\">\n",
       "  <thead>\n",
       "    <tr style=\"text-align: right;\">\n",
       "      <th></th>\n",
       "      <th>Date</th>\n",
       "      <th>Symbol</th>\n",
       "      <th>Series</th>\n",
       "      <th>Prev Close</th>\n",
       "      <th>Open</th>\n",
       "      <th>High</th>\n",
       "      <th>Low</th>\n",
       "      <th>Last</th>\n",
       "      <th>Close</th>\n",
       "      <th>VWAP</th>\n",
       "      <th>...</th>\n",
       "      <th>Turnover_mean_lag30</th>\n",
       "      <th>Turnover_std_lag3</th>\n",
       "      <th>Turnover_std_lag7</th>\n",
       "      <th>Turnover_std_lag30</th>\n",
       "      <th>Trades_mean_lag3</th>\n",
       "      <th>Trades_mean_lag7</th>\n",
       "      <th>Trades_mean_lag30</th>\n",
       "      <th>Trades_std_lag3</th>\n",
       "      <th>Trades_std_lag7</th>\n",
       "      <th>Trades_std_lag30</th>\n",
       "    </tr>\n",
       "    <tr>\n",
       "      <th>Date</th>\n",
       "      <th></th>\n",
       "      <th></th>\n",
       "      <th></th>\n",
       "      <th></th>\n",
       "      <th></th>\n",
       "      <th></th>\n",
       "      <th></th>\n",
       "      <th></th>\n",
       "      <th></th>\n",
       "      <th></th>\n",
       "      <th></th>\n",
       "      <th></th>\n",
       "      <th></th>\n",
       "      <th></th>\n",
       "      <th></th>\n",
       "      <th></th>\n",
       "      <th></th>\n",
       "      <th></th>\n",
       "      <th></th>\n",
       "      <th></th>\n",
       "      <th></th>\n",
       "    </tr>\n",
       "  </thead>\n",
       "  <tbody>\n",
       "    <tr>\n",
       "      <th>2008-05-26</th>\n",
       "      <td>2008-05-26</td>\n",
       "      <td>BAJAJFINSV</td>\n",
       "      <td>EQ</td>\n",
       "      <td>2101.05</td>\n",
       "      <td>600.00</td>\n",
       "      <td>619.00</td>\n",
       "      <td>501.0</td>\n",
       "      <td>505.1</td>\n",
       "      <td>509.10</td>\n",
       "      <td>548.85</td>\n",
       "      <td>...</td>\n",
       "      <td>4.316068e+13</td>\n",
       "      <td>1.685418e+13</td>\n",
       "      <td>2.160474e+13</td>\n",
       "      <td>2.963513e+13</td>\n",
       "      <td>12089.546875</td>\n",
       "      <td>12078.219727</td>\n",
       "      <td>12015.113281</td>\n",
       "      <td>4340.279785</td>\n",
       "      <td>5418.928711</td>\n",
       "      <td>7087.783691</td>\n",
       "    </tr>\n",
       "    <tr>\n",
       "      <th>2008-05-27</th>\n",
       "      <td>2008-05-27</td>\n",
       "      <td>BAJAJFINSV</td>\n",
       "      <td>EQ</td>\n",
       "      <td>509.10</td>\n",
       "      <td>505.00</td>\n",
       "      <td>610.95</td>\n",
       "      <td>491.1</td>\n",
       "      <td>564.0</td>\n",
       "      <td>554.65</td>\n",
       "      <td>572.15</td>\n",
       "      <td>...</td>\n",
       "      <td>1.726368e+14</td>\n",
       "      <td>1.685418e+13</td>\n",
       "      <td>2.160474e+13</td>\n",
       "      <td>2.963513e+13</td>\n",
       "      <td>12089.546875</td>\n",
       "      <td>12078.219727</td>\n",
       "      <td>12015.113281</td>\n",
       "      <td>4340.279785</td>\n",
       "      <td>5418.928711</td>\n",
       "      <td>7087.783691</td>\n",
       "    </tr>\n",
       "    <tr>\n",
       "      <th>2008-05-28</th>\n",
       "      <td>2008-05-28</td>\n",
       "      <td>BAJAJFINSV</td>\n",
       "      <td>EQ</td>\n",
       "      <td>554.65</td>\n",
       "      <td>564.00</td>\n",
       "      <td>665.60</td>\n",
       "      <td>564.0</td>\n",
       "      <td>643.0</td>\n",
       "      <td>640.95</td>\n",
       "      <td>618.37</td>\n",
       "      <td>...</td>\n",
       "      <td>2.107369e+14</td>\n",
       "      <td>5.388164e+13</td>\n",
       "      <td>5.388164e+13</td>\n",
       "      <td>5.388164e+13</td>\n",
       "      <td>12089.546875</td>\n",
       "      <td>12078.219727</td>\n",
       "      <td>12015.113281</td>\n",
       "      <td>4340.279785</td>\n",
       "      <td>5418.928711</td>\n",
       "      <td>7087.783691</td>\n",
       "    </tr>\n",
       "    <tr>\n",
       "      <th>2008-05-29</th>\n",
       "      <td>2008-05-29</td>\n",
       "      <td>BAJAJFINSV</td>\n",
       "      <td>EQ</td>\n",
       "      <td>640.95</td>\n",
       "      <td>656.65</td>\n",
       "      <td>703.00</td>\n",
       "      <td>608.0</td>\n",
       "      <td>634.5</td>\n",
       "      <td>632.40</td>\n",
       "      <td>659.60</td>\n",
       "      <td>...</td>\n",
       "      <td>2.350756e+14</td>\n",
       "      <td>5.682195e+13</td>\n",
       "      <td>5.682195e+13</td>\n",
       "      <td>5.682195e+13</td>\n",
       "      <td>12089.546875</td>\n",
       "      <td>12078.219727</td>\n",
       "      <td>12015.113281</td>\n",
       "      <td>4340.279785</td>\n",
       "      <td>5418.928711</td>\n",
       "      <td>7087.783691</td>\n",
       "    </tr>\n",
       "    <tr>\n",
       "      <th>2008-05-30</th>\n",
       "      <td>2008-05-30</td>\n",
       "      <td>BAJAJFINSV</td>\n",
       "      <td>EQ</td>\n",
       "      <td>632.40</td>\n",
       "      <td>642.40</td>\n",
       "      <td>668.00</td>\n",
       "      <td>588.3</td>\n",
       "      <td>647.0</td>\n",
       "      <td>644.00</td>\n",
       "      <td>636.41</td>\n",
       "      <td>...</td>\n",
       "      <td>2.508797e+14</td>\n",
       "      <td>2.541759e+13</td>\n",
       "      <td>5.613884e+13</td>\n",
       "      <td>5.613884e+13</td>\n",
       "      <td>12089.546875</td>\n",
       "      <td>12078.219727</td>\n",
       "      <td>12015.113281</td>\n",
       "      <td>4340.279785</td>\n",
       "      <td>5418.928711</td>\n",
       "      <td>7087.783691</td>\n",
       "    </tr>\n",
       "  </tbody>\n",
       "</table>\n",
       "<p>5 rows × 45 columns</p>\n",
       "</div>"
      ],
      "text/plain": [
       "                  Date      Symbol Series  Prev Close    Open    High    Low  \\\n",
       "Date                                                                           \n",
       "2008-05-26  2008-05-26  BAJAJFINSV     EQ     2101.05  600.00  619.00  501.0   \n",
       "2008-05-27  2008-05-27  BAJAJFINSV     EQ      509.10  505.00  610.95  491.1   \n",
       "2008-05-28  2008-05-28  BAJAJFINSV     EQ      554.65  564.00  665.60  564.0   \n",
       "2008-05-29  2008-05-29  BAJAJFINSV     EQ      640.95  656.65  703.00  608.0   \n",
       "2008-05-30  2008-05-30  BAJAJFINSV     EQ      632.40  642.40  668.00  588.3   \n",
       "\n",
       "             Last   Close    VWAP  ...  Turnover_mean_lag30  \\\n",
       "Date                               ...                        \n",
       "2008-05-26  505.1  509.10  548.85  ...         4.316068e+13   \n",
       "2008-05-27  564.0  554.65  572.15  ...         1.726368e+14   \n",
       "2008-05-28  643.0  640.95  618.37  ...         2.107369e+14   \n",
       "2008-05-29  634.5  632.40  659.60  ...         2.350756e+14   \n",
       "2008-05-30  647.0  644.00  636.41  ...         2.508797e+14   \n",
       "\n",
       "            Turnover_std_lag3  Turnover_std_lag7  Turnover_std_lag30  \\\n",
       "Date                                                                   \n",
       "2008-05-26       1.685418e+13       2.160474e+13        2.963513e+13   \n",
       "2008-05-27       1.685418e+13       2.160474e+13        2.963513e+13   \n",
       "2008-05-28       5.388164e+13       5.388164e+13        5.388164e+13   \n",
       "2008-05-29       5.682195e+13       5.682195e+13        5.682195e+13   \n",
       "2008-05-30       2.541759e+13       5.613884e+13        5.613884e+13   \n",
       "\n",
       "            Trades_mean_lag3  Trades_mean_lag7  Trades_mean_lag30  \\\n",
       "Date                                                                \n",
       "2008-05-26      12089.546875      12078.219727       12015.113281   \n",
       "2008-05-27      12089.546875      12078.219727       12015.113281   \n",
       "2008-05-28      12089.546875      12078.219727       12015.113281   \n",
       "2008-05-29      12089.546875      12078.219727       12015.113281   \n",
       "2008-05-30      12089.546875      12078.219727       12015.113281   \n",
       "\n",
       "            Trades_std_lag3  Trades_std_lag7  Trades_std_lag30  \n",
       "Date                                                            \n",
       "2008-05-26      4340.279785      5418.928711       7087.783691  \n",
       "2008-05-27      4340.279785      5418.928711       7087.783691  \n",
       "2008-05-28      4340.279785      5418.928711       7087.783691  \n",
       "2008-05-29      4340.279785      5418.928711       7087.783691  \n",
       "2008-05-30      4340.279785      5418.928711       7087.783691  \n",
       "\n",
       "[5 rows x 45 columns]"
      ]
     },
     "execution_count": 4,
     "metadata": {},
     "output_type": "execute_result"
    }
   ],
   "source": [
    "df.reset_index(drop=True, inplace=True)\n",
    "lag_features = [\"High\", \"Low\", \"Volume\", \"Turnover\", \"Trades\"]\n",
    "window1 = 3\n",
    "window2 = 7\n",
    "window3 = 30\n",
    "\n",
    "df_rolled_3d = df[lag_features].rolling(window=window1, min_periods=0)\n",
    "df_rolled_7d = df[lag_features].rolling(window=window2, min_periods=0)\n",
    "df_rolled_30d = df[lag_features].rolling(window=window3, min_periods=0)\n",
    "\n",
    "df_mean_3d = df_rolled_3d.mean().shift(1).reset_index().astype(np.float32)\n",
    "df_mean_7d = df_rolled_7d.mean().shift(1).reset_index().astype(np.float32)\n",
    "df_mean_30d = df_rolled_30d.mean().shift(1).reset_index().astype(np.float32)\n",
    "\n",
    "df_std_3d = df_rolled_3d.std().shift(1).reset_index().astype(np.float32)\n",
    "df_std_7d = df_rolled_7d.std().shift(1).reset_index().astype(np.float32)\n",
    "df_std_30d = df_rolled_30d.std().shift(1).reset_index().astype(np.float32)\n",
    "\n",
    "for feature in lag_features:\n",
    "    df[f\"{feature}_mean_lag{window1}\"] = df_mean_3d[feature]\n",
    "    df[f\"{feature}_mean_lag{window2}\"] = df_mean_7d[feature]\n",
    "    df[f\"{feature}_mean_lag{window3}\"] = df_mean_30d[feature]\n",
    "    \n",
    "    df[f\"{feature}_std_lag{window1}\"] = df_std_3d[feature]\n",
    "    df[f\"{feature}_std_lag{window2}\"] = df_std_7d[feature]\n",
    "    df[f\"{feature}_std_lag{window3}\"] = df_std_30d[feature]\n",
    "\n",
    "df.fillna(df.mean(), inplace=True)\n",
    "\n",
    "df.set_index(\"Date\", drop=False, inplace=True)\n",
    "df.head()"
   ]
  },
  {
   "cell_type": "markdown",
   "id": "1df013db",
   "metadata": {},
   "source": [
    "For boosting models(LightGBM), it is very useful to add datetime features like hour, day, month, as applicable to provide the model information about the time component in the data. For time series models it is not explicitly required to pass this information but we could do so and we will in this notebook so that all models are compared on the exact same set of features."
   ]
  },
  {
   "cell_type": "code",
   "execution_count": 5,
   "id": "b732d802",
   "metadata": {},
   "outputs": [
    {
     "name": "stderr",
     "output_type": "stream",
     "text": [
      "C:\\Users\\Lenovo\\AppData\\Local\\Temp\\ipykernel_13164\\2560288566.py:3: FutureWarning: Series.dt.weekofyear and Series.dt.week have been deprecated. Please use Series.dt.isocalendar().week instead.\n",
      "  df[\"week\"] = df.Date.dt.week\n"
     ]
    },
    {
     "data": {
      "text/html": [
       "<div>\n",
       "<style scoped>\n",
       "    .dataframe tbody tr th:only-of-type {\n",
       "        vertical-align: middle;\n",
       "    }\n",
       "\n",
       "    .dataframe tbody tr th {\n",
       "        vertical-align: top;\n",
       "    }\n",
       "\n",
       "    .dataframe thead th {\n",
       "        text-align: right;\n",
       "    }\n",
       "</style>\n",
       "<table border=\"1\" class=\"dataframe\">\n",
       "  <thead>\n",
       "    <tr style=\"text-align: right;\">\n",
       "      <th></th>\n",
       "      <th>Date</th>\n",
       "      <th>Symbol</th>\n",
       "      <th>Series</th>\n",
       "      <th>Prev Close</th>\n",
       "      <th>Open</th>\n",
       "      <th>High</th>\n",
       "      <th>Low</th>\n",
       "      <th>Last</th>\n",
       "      <th>Close</th>\n",
       "      <th>VWAP</th>\n",
       "      <th>...</th>\n",
       "      <th>Trades_mean_lag3</th>\n",
       "      <th>Trades_mean_lag7</th>\n",
       "      <th>Trades_mean_lag30</th>\n",
       "      <th>Trades_std_lag3</th>\n",
       "      <th>Trades_std_lag7</th>\n",
       "      <th>Trades_std_lag30</th>\n",
       "      <th>month</th>\n",
       "      <th>week</th>\n",
       "      <th>day</th>\n",
       "      <th>day_of_week</th>\n",
       "    </tr>\n",
       "    <tr>\n",
       "      <th>Date</th>\n",
       "      <th></th>\n",
       "      <th></th>\n",
       "      <th></th>\n",
       "      <th></th>\n",
       "      <th></th>\n",
       "      <th></th>\n",
       "      <th></th>\n",
       "      <th></th>\n",
       "      <th></th>\n",
       "      <th></th>\n",
       "      <th></th>\n",
       "      <th></th>\n",
       "      <th></th>\n",
       "      <th></th>\n",
       "      <th></th>\n",
       "      <th></th>\n",
       "      <th></th>\n",
       "      <th></th>\n",
       "      <th></th>\n",
       "      <th></th>\n",
       "      <th></th>\n",
       "    </tr>\n",
       "  </thead>\n",
       "  <tbody>\n",
       "    <tr>\n",
       "      <th>2008-05-26</th>\n",
       "      <td>2008-05-26</td>\n",
       "      <td>BAJAJFINSV</td>\n",
       "      <td>EQ</td>\n",
       "      <td>2101.05</td>\n",
       "      <td>600.00</td>\n",
       "      <td>619.00</td>\n",
       "      <td>501.0</td>\n",
       "      <td>505.1</td>\n",
       "      <td>509.10</td>\n",
       "      <td>548.85</td>\n",
       "      <td>...</td>\n",
       "      <td>12089.546875</td>\n",
       "      <td>12078.219727</td>\n",
       "      <td>12015.113281</td>\n",
       "      <td>4340.279785</td>\n",
       "      <td>5418.928711</td>\n",
       "      <td>7087.783691</td>\n",
       "      <td>5</td>\n",
       "      <td>22</td>\n",
       "      <td>26</td>\n",
       "      <td>0</td>\n",
       "    </tr>\n",
       "    <tr>\n",
       "      <th>2008-05-27</th>\n",
       "      <td>2008-05-27</td>\n",
       "      <td>BAJAJFINSV</td>\n",
       "      <td>EQ</td>\n",
       "      <td>509.10</td>\n",
       "      <td>505.00</td>\n",
       "      <td>610.95</td>\n",
       "      <td>491.1</td>\n",
       "      <td>564.0</td>\n",
       "      <td>554.65</td>\n",
       "      <td>572.15</td>\n",
       "      <td>...</td>\n",
       "      <td>12089.546875</td>\n",
       "      <td>12078.219727</td>\n",
       "      <td>12015.113281</td>\n",
       "      <td>4340.279785</td>\n",
       "      <td>5418.928711</td>\n",
       "      <td>7087.783691</td>\n",
       "      <td>5</td>\n",
       "      <td>22</td>\n",
       "      <td>27</td>\n",
       "      <td>1</td>\n",
       "    </tr>\n",
       "    <tr>\n",
       "      <th>2008-05-28</th>\n",
       "      <td>2008-05-28</td>\n",
       "      <td>BAJAJFINSV</td>\n",
       "      <td>EQ</td>\n",
       "      <td>554.65</td>\n",
       "      <td>564.00</td>\n",
       "      <td>665.60</td>\n",
       "      <td>564.0</td>\n",
       "      <td>643.0</td>\n",
       "      <td>640.95</td>\n",
       "      <td>618.37</td>\n",
       "      <td>...</td>\n",
       "      <td>12089.546875</td>\n",
       "      <td>12078.219727</td>\n",
       "      <td>12015.113281</td>\n",
       "      <td>4340.279785</td>\n",
       "      <td>5418.928711</td>\n",
       "      <td>7087.783691</td>\n",
       "      <td>5</td>\n",
       "      <td>22</td>\n",
       "      <td>28</td>\n",
       "      <td>2</td>\n",
       "    </tr>\n",
       "    <tr>\n",
       "      <th>2008-05-29</th>\n",
       "      <td>2008-05-29</td>\n",
       "      <td>BAJAJFINSV</td>\n",
       "      <td>EQ</td>\n",
       "      <td>640.95</td>\n",
       "      <td>656.65</td>\n",
       "      <td>703.00</td>\n",
       "      <td>608.0</td>\n",
       "      <td>634.5</td>\n",
       "      <td>632.40</td>\n",
       "      <td>659.60</td>\n",
       "      <td>...</td>\n",
       "      <td>12089.546875</td>\n",
       "      <td>12078.219727</td>\n",
       "      <td>12015.113281</td>\n",
       "      <td>4340.279785</td>\n",
       "      <td>5418.928711</td>\n",
       "      <td>7087.783691</td>\n",
       "      <td>5</td>\n",
       "      <td>22</td>\n",
       "      <td>29</td>\n",
       "      <td>3</td>\n",
       "    </tr>\n",
       "    <tr>\n",
       "      <th>2008-05-30</th>\n",
       "      <td>2008-05-30</td>\n",
       "      <td>BAJAJFINSV</td>\n",
       "      <td>EQ</td>\n",
       "      <td>632.40</td>\n",
       "      <td>642.40</td>\n",
       "      <td>668.00</td>\n",
       "      <td>588.3</td>\n",
       "      <td>647.0</td>\n",
       "      <td>644.00</td>\n",
       "      <td>636.41</td>\n",
       "      <td>...</td>\n",
       "      <td>12089.546875</td>\n",
       "      <td>12078.219727</td>\n",
       "      <td>12015.113281</td>\n",
       "      <td>4340.279785</td>\n",
       "      <td>5418.928711</td>\n",
       "      <td>7087.783691</td>\n",
       "      <td>5</td>\n",
       "      <td>22</td>\n",
       "      <td>30</td>\n",
       "      <td>4</td>\n",
       "    </tr>\n",
       "  </tbody>\n",
       "</table>\n",
       "<p>5 rows × 49 columns</p>\n",
       "</div>"
      ],
      "text/plain": [
       "                 Date      Symbol Series  Prev Close    Open    High    Low  \\\n",
       "Date                                                                          \n",
       "2008-05-26 2008-05-26  BAJAJFINSV     EQ     2101.05  600.00  619.00  501.0   \n",
       "2008-05-27 2008-05-27  BAJAJFINSV     EQ      509.10  505.00  610.95  491.1   \n",
       "2008-05-28 2008-05-28  BAJAJFINSV     EQ      554.65  564.00  665.60  564.0   \n",
       "2008-05-29 2008-05-29  BAJAJFINSV     EQ      640.95  656.65  703.00  608.0   \n",
       "2008-05-30 2008-05-30  BAJAJFINSV     EQ      632.40  642.40  668.00  588.3   \n",
       "\n",
       "             Last   Close    VWAP  ...  Trades_mean_lag3  Trades_mean_lag7  \\\n",
       "Date                               ...                                       \n",
       "2008-05-26  505.1  509.10  548.85  ...      12089.546875      12078.219727   \n",
       "2008-05-27  564.0  554.65  572.15  ...      12089.546875      12078.219727   \n",
       "2008-05-28  643.0  640.95  618.37  ...      12089.546875      12078.219727   \n",
       "2008-05-29  634.5  632.40  659.60  ...      12089.546875      12078.219727   \n",
       "2008-05-30  647.0  644.00  636.41  ...      12089.546875      12078.219727   \n",
       "\n",
       "            Trades_mean_lag30  Trades_std_lag3  Trades_std_lag7  \\\n",
       "Date                                                              \n",
       "2008-05-26       12015.113281      4340.279785      5418.928711   \n",
       "2008-05-27       12015.113281      4340.279785      5418.928711   \n",
       "2008-05-28       12015.113281      4340.279785      5418.928711   \n",
       "2008-05-29       12015.113281      4340.279785      5418.928711   \n",
       "2008-05-30       12015.113281      4340.279785      5418.928711   \n",
       "\n",
       "            Trades_std_lag30  month  week  day  day_of_week  \n",
       "Date                                                         \n",
       "2008-05-26       7087.783691      5    22   26            0  \n",
       "2008-05-27       7087.783691      5    22   27            1  \n",
       "2008-05-28       7087.783691      5    22   28            2  \n",
       "2008-05-29       7087.783691      5    22   29            3  \n",
       "2008-05-30       7087.783691      5    22   30            4  \n",
       "\n",
       "[5 rows x 49 columns]"
      ]
     },
     "execution_count": 5,
     "metadata": {},
     "output_type": "execute_result"
    }
   ],
   "source": [
    "df.Date = pd.to_datetime(df.Date, format=\"%Y-%m-%d\")\n",
    "df[\"month\"] = df.Date.dt.month\n",
    "df[\"week\"] = df.Date.dt.week\n",
    "df[\"day\"] = df.Date.dt.day\n",
    "df[\"day_of_week\"] = df.Date.dt.dayofweek\n",
    "df.head()"
   ]
  },
  {
   "cell_type": "markdown",
   "id": "bcc23f13",
   "metadata": {},
   "source": [
    "Splitting the data into train and validation along with features.\n",
    "\n",
    "train: Data from 26th May, 2008 to 31st December, 2018.\n",
    "valid: Data from 1st January, 2019 to 31st December, 2019."
   ]
  },
  {
   "cell_type": "code",
   "execution_count": 6,
   "id": "a3f5548b",
   "metadata": {},
   "outputs": [],
   "source": [
    "df_train = df[df.Date < \"2019\"]\n",
    "df_valid = df[df.Date >= \"2019\"]\n",
    "\n",
    "exogenous_features = [\"High_mean_lag3\", \"High_std_lag3\", \"Low_mean_lag3\", \"Low_std_lag3\",\n",
    "                      \"Volume_mean_lag3\", \"Volume_std_lag3\", \"Turnover_mean_lag3\",\n",
    "                      \"Turnover_std_lag3\", \"Trades_mean_lag3\", \"Trades_std_lag3\",\n",
    "                      \"High_mean_lag7\", \"High_std_lag7\", \"Low_mean_lag7\", \"Low_std_lag7\",\n",
    "                      \"Volume_mean_lag7\", \"Volume_std_lag7\", \"Turnover_mean_lag7\",\n",
    "                      \"Turnover_std_lag7\", \"Trades_mean_lag7\", \"Trades_std_lag7\",\n",
    "                      \"High_mean_lag30\", \"High_std_lag30\", \"Low_mean_lag30\", \"Low_std_lag30\",\n",
    "                      \"Volume_mean_lag30\", \"Volume_std_lag30\", \"Turnover_mean_lag30\",\n",
    "                      \"Turnover_std_lag30\", \"Trades_mean_lag30\", \"Trades_std_lag30\",\n",
    "                      \"month\", \"week\", \"day\", \"day_of_week\"]"
   ]
  },
  {
   "cell_type": "markdown",
   "id": "0b5f0752",
   "metadata": {},
   "source": [
    "The additional features supplied to time series problems are called exogenous regressors."
   ]
  },
  {
   "cell_type": "markdown",
   "id": "44c017d9",
   "metadata": {},
   "source": [
    "### Auto ARIMAX\n",
    "\n",
    "ARIMA (Auto Regressive Integrated Moving Average) models explain a given time series based on its own past values, that is, its own lags and the lagged forecast errors, so that equation can be used to forecast future values.\n",
    "\n",
    "ARIMA models require certain input parameters: p for the AR(p) part, q for the MA(q) part and d for the I(d) part. Thankfully, there is an automatic process by which these parameters can be chosen which is called Auto ARIMA.\n",
    "\n",
    "When exogenous regressors are used with ARIMA it is commonly called ARIMAX.\n",
    "\n",
    "Read more about ARIMA: https://en.wikipedia.org/wiki/Autoregressive_integrated_moving_average"
   ]
  },
  {
   "cell_type": "code",
   "execution_count": 7,
   "id": "82b19aff",
   "metadata": {},
   "outputs": [
    {
     "name": "stdout",
     "output_type": "stream",
     "text": [
      "Performing stepwise search to minimize aic\n",
      " ARIMA(2,0,2)(0,0,0)[0] intercept   : AIC=28695.849, Time=6.79 sec\n",
      " ARIMA(0,0,0)(0,0,0)[0] intercept   : AIC=29360.430, Time=4.29 sec\n",
      " ARIMA(1,0,0)(0,0,0)[0] intercept   : AIC=28786.582, Time=4.29 sec\n",
      " ARIMA(0,0,1)(0,0,0)[0] intercept   : AIC=29047.794, Time=5.89 sec\n",
      " ARIMA(0,0,0)(0,0,0)[0]             : AIC=47416.470, Time=3.87 sec\n",
      " ARIMA(1,0,2)(0,0,0)[0] intercept   : AIC=28697.680, Time=6.32 sec\n",
      " ARIMA(2,0,1)(0,0,0)[0] intercept   : AIC=28693.796, Time=6.09 sec\n",
      " ARIMA(1,0,1)(0,0,0)[0] intercept   : AIC=28770.132, Time=5.99 sec\n",
      " ARIMA(2,0,0)(0,0,0)[0] intercept   : AIC=28702.730, Time=6.08 sec\n",
      " ARIMA(3,0,1)(0,0,0)[0] intercept   : AIC=28708.103, Time=6.92 sec\n",
      " ARIMA(3,0,0)(0,0,0)[0] intercept   : AIC=28694.683, Time=6.82 sec\n"
     ]
    },
    {
     "name": "stderr",
     "output_type": "stream",
     "text": [
      "C:\\ProgramData\\Anaconda3\\lib\\site-packages\\statsmodels\\tsa\\statespace\\sarimax.py:1899: RuntimeWarning: divide by zero encountered in reciprocal\n",
      "  return np.roots(self.polynomial_reduced_ar)**-1\n",
      "C:\\ProgramData\\Anaconda3\\lib\\site-packages\\statsmodels\\tsa\\statespace\\sarimax.py:1906: RuntimeWarning: divide by zero encountered in reciprocal\n",
      "  return np.roots(self.polynomial_reduced_ma)**-1\n"
     ]
    },
    {
     "name": "stdout",
     "output_type": "stream",
     "text": [
      " ARIMA(3,0,2)(0,0,0)[0] intercept   : AIC=30584.464, Time=7.51 sec\n",
      " ARIMA(2,0,1)(0,0,0)[0]             : AIC=28691.584, Time=6.62 sec\n",
      " ARIMA(1,0,1)(0,0,0)[0]             : AIC=28767.930, Time=6.08 sec\n",
      " ARIMA(2,0,0)(0,0,0)[0]             : AIC=28700.723, Time=5.91 sec\n",
      " ARIMA(3,0,1)(0,0,0)[0]             : AIC=28705.995, Time=6.41 sec\n",
      " ARIMA(2,0,2)(0,0,0)[0]             : AIC=28693.536, Time=6.30 sec\n",
      " ARIMA(1,0,0)(0,0,0)[0]             : AIC=28783.853, Time=4.17 sec\n",
      " ARIMA(1,0,2)(0,0,0)[0]             : AIC=28695.577, Time=6.27 sec\n",
      " ARIMA(3,0,0)(0,0,0)[0]             : AIC=28692.546, Time=6.41 sec\n"
     ]
    },
    {
     "name": "stderr",
     "output_type": "stream",
     "text": [
      "C:\\ProgramData\\Anaconda3\\lib\\site-packages\\statsmodels\\tsa\\statespace\\sarimax.py:1899: RuntimeWarning: divide by zero encountered in reciprocal\n",
      "  return np.roots(self.polynomial_reduced_ar)**-1\n",
      "C:\\ProgramData\\Anaconda3\\lib\\site-packages\\statsmodels\\tsa\\statespace\\sarimax.py:1906: RuntimeWarning: divide by zero encountered in reciprocal\n",
      "  return np.roots(self.polynomial_reduced_ma)**-1\n"
     ]
    },
    {
     "name": "stdout",
     "output_type": "stream",
     "text": [
      " ARIMA(3,0,2)(0,0,0)[0]             : AIC=30582.234, Time=6.55 sec\n",
      "\n",
      "Best model:  ARIMA(2,0,1)(0,0,0)[0]          \n",
      "Total fit time: 125.673 seconds\n"
     ]
    },
    {
     "name": "stderr",
     "output_type": "stream",
     "text": [
      "C:\\ProgramData\\Anaconda3\\lib\\site-packages\\statsmodels\\tsa\\base\\tsa_model.py:834: ValueWarning: No supported index is available. Prediction results will be given with an integer index beginning at `start`.\n",
      "  return get_prediction_index(\n",
      "C:\\Users\\Lenovo\\AppData\\Local\\Temp\\ipykernel_13164\\395220638.py:5: SettingWithCopyWarning: \n",
      "A value is trying to be set on a copy of a slice from a DataFrame.\n",
      "Try using .loc[row_indexer,col_indexer] = value instead\n",
      "\n",
      "See the caveats in the documentation: https://pandas.pydata.org/pandas-docs/stable/user_guide/indexing.html#returning-a-view-versus-a-copy\n",
      "  df_valid[\"Forecast_ARIMAX\"] = forecast\n"
     ]
    }
   ],
   "source": [
    "model = auto_arima(df_train.VWAP, exogenous=df_train[exogenous_features], trace=True, error_action=\"ignore\", suppress_warnings=True)\n",
    "model.fit(df_train.VWAP, exogenous=df_train[exogenous_features])\n",
    "\n",
    "forecast = model.predict(n_periods=len(df_valid), exogenous=df_valid[exogenous_features])\n",
    "df_valid[\"Forecast_ARIMAX\"] = forecast"
   ]
  },
  {
   "cell_type": "markdown",
   "id": "de1cca66",
   "metadata": {},
   "source": [
    "Plotting the target variable VWAP & Forecast ARIMA over time"
   ]
  },
  {
   "cell_type": "code",
   "execution_count": 8,
   "id": "6c400567",
   "metadata": {},
   "outputs": [
    {
     "data": {
      "text/plain": [
       "<AxesSubplot:xlabel='Date'>"
      ]
     },
     "execution_count": 8,
     "metadata": {},
     "output_type": "execute_result"
    },
    {
     "data": {
      "image/png": "[encoded data removed]",
      "text/plain": [
       "<Figure size 1008x504 with 1 Axes>"
      ]
     },
     "metadata": {
      "needs_background": "light"
     },
     "output_type": "display_data"
    }
   ],
   "source": [
    "df_valid[[\"VWAP\", \"Forecast_ARIMAX\"]].plot(figsize=(14, 7))"
   ]
  },
  {
   "cell_type": "code",
   "execution_count": 9,
   "id": "3c529ee9",
   "metadata": {},
   "outputs": [
    {
     "name": "stdout",
     "output_type": "stream",
     "text": [
      "RMSE of Auto ARIMAX: 147.08063746438037\n",
      "\n",
      "MAE of Auto ARIMAX: 104.03230684014659\n"
     ]
    }
   ],
   "source": [
    "print(\"RMSE of Auto ARIMAX:\", np.sqrt(mean_squared_error(df_valid.VWAP, df_valid.Forecast_ARIMAX)))\n",
    "print(\"\\nMAE of Auto ARIMAX:\", mean_absolute_error(df_valid.VWAP, df_valid.Forecast_ARIMAX))"
   ]
  },
  {
   "cell_type": "markdown",
   "id": "2ef1ac2c",
   "metadata": {},
   "source": [
    "The Auto ARIMAX model seems to do a fairly good job in predicting the stock price given data till the previous day. Can other models beat this benchmark?"
   ]
  },
  {
   "cell_type": "markdown",
   "id": "1fb2a77e",
   "metadata": {},
   "source": [
    "### LightGBM\n",
    "\n",
    "Time series problems are popularly converted into a tabular i.i.d. structure and fed into boosting models like LightGBM and XGBoost.\n",
    "\n",
    "There is loss of information in terms of knowing the order of data points in the time series but it can be circumvented by the datetime features to capture this information to some extent.\n",
    "\n",
    "Note that the default parameters are used for LightGBM. They can be tuned to improve the results."
   ]
  },
  {
   "cell_type": "code",
   "execution_count": 10,
   "id": "f1e7438a",
   "metadata": {},
   "outputs": [
    {
     "name": "stdout",
     "output_type": "stream",
     "text": [
      "[LightGBM] [Warning] Auto-choosing col-wise multi-threading, the overhead of testing was 0.001000 seconds.\n",
      "You can set `force_col_wise=true` to remove the overhead.\n",
      "[LightGBM] [Info] Total Bins 7756\n",
      "[LightGBM] [Info] Number of data points in the train set: 2627, number of used features: 34\n",
      "[LightGBM] [Info] Start training from score 1703.363246\n"
     ]
    },
    {
     "name": "stderr",
     "output_type": "stream",
     "text": [
      "C:\\Users\\Lenovo\\AppData\\Local\\Temp\\ipykernel_13164\\910916039.py:9: SettingWithCopyWarning: \n",
      "A value is trying to be set on a copy of a slice from a DataFrame.\n",
      "Try using .loc[row_indexer,col_indexer] = value instead\n",
      "\n",
      "See the caveats in the documentation: https://pandas.pydata.org/pandas-docs/stable/user_guide/indexing.html#returning-a-view-versus-a-copy\n",
      "  df_valid[\"Forecast_LightGBM\"] = forecast\n"
     ]
    }
   ],
   "source": [
    "params = {\"objective\": \"regression\"}\n",
    "\n",
    "dtrain = lgb.Dataset(df_train[exogenous_features], label=df_train.VWAP.values)\n",
    "dvalid = lgb.Dataset(df_valid[exogenous_features])\n",
    "\n",
    "model_lgb = lgb.train(params, train_set=dtrain)\n",
    "\n",
    "forecast = model_lgb.predict(df_valid[exogenous_features])\n",
    "df_valid[\"Forecast_LightGBM\"] = forecast"
   ]
  },
  {
   "cell_type": "markdown",
   "id": "ec7b8b0a",
   "metadata": {},
   "source": [
    "Plotting the target variable VWAP, Forecast ARIMA & Forecast LightGBM over time"
   ]
  },
  {
   "cell_type": "code",
   "execution_count": 11,
   "id": "3e962e8f",
   "metadata": {},
   "outputs": [
    {
     "data": {
      "text/plain": [
       "<AxesSubplot:xlabel='Date'>"
      ]
     },
     "execution_count": 11,
     "metadata": {},
     "output_type": "execute_result"
    },
    {
     "data": {
      "image/png": "[encoded data removed]",
      "text/plain": [
       "<Figure size 1008x504 with 1 Axes>"
      ]
     },
     "metadata": {
      "needs_background": "light"
     },
     "output_type": "display_data"
    }
   ],
   "source": [
    "df_valid[[\"VWAP\", \"Forecast_ARIMAX\", \"Forecast_LightGBM\"]].plot(figsize=(14, 7))"
   ]
  },
  {
   "cell_type": "code",
   "execution_count": 12,
   "id": "0ff95ddd",
   "metadata": {},
   "outputs": [
    {
     "name": "stdout",
     "output_type": "stream",
     "text": [
      "RMSE of Auto ARIMAX: 147.08063746438037\n",
      "RMSE of LightGBM: 1233.324223074174\n",
      "\n",
      "MAE of Auto ARIMAX: 104.03230684014659\n",
      "MAE of LightGBM: 959.1394397279743\n"
     ]
    }
   ],
   "source": [
    "print(\"RMSE of Auto ARIMAX:\", np.sqrt(mean_squared_error(df_valid.VWAP, df_valid.Forecast_ARIMAX)))\n",
    "print(\"RMSE of LightGBM:\", np.sqrt(mean_squared_error(df_valid.VWAP, df_valid.Forecast_LightGBM)))\n",
    "print(\"\\nMAE of Auto ARIMAX:\", mean_absolute_error(df_valid.VWAP, df_valid.Forecast_ARIMAX))\n",
    "print(\"MAE of LightGBM:\", mean_absolute_error(df_valid.VWAP, df_valid.Forecast_LightGBM))"
   ]
  },
  {
   "cell_type": "markdown",
   "id": "cae487e9",
   "metadata": {},
   "source": [
    "LightGBM performs terribly! This is a very important aspect of using boosting models for time series. Remember that boosting models are constrained to predict within the range of target values appearing in the training data. The maximum price value in the training data is ~ 7100 and hence LGBM is unable to predict values beyond 7100.\n",
    "\n",
    "Then why are boosting methods still so popular? Well, they fail only in cases where the trend component is extremely strong and there are a wide variety of use cases where the trend is weak and the expected forecasts are within the values of the past. Stock prices is an example that generally has strong trend components especially when measured over years."
   ]
  },
  {
   "cell_type": "markdown",
   "id": "c993c181",
   "metadata": {},
   "source": [
    "Conclusions and Tips\n",
    "\n",
    "1. Auto ARIMAX is a great baseline model.\n",
    "2. Setting up an appropriate validation framework is extremely important. It enables you to try and experiment various models and objectively compare them.\n",
    "3. Lag-based features are very useful in providing trends information about the time series data. Rolling statistics are a common way of generating these.\n",
    "4. Exogenous regressors help in providing external information about the time series. They tend to be very important in most models.\n",
    "5. Boosting models like LightGBM are constrained to predict within the range of values of the target variable in the training data and don't extrapolate when there is strong trend.\n",
    "6. Converting a time series to stationary and then modelling is a common approach for building solutions and can significantly improve results."
   ]
  }
 ],
 "metadata": {
  "kernelspec": {
   "display_name": "Python 3 (ipykernel)",
   "language": "python",
   "name": "python3"
  },
  "language_info": {
   "codemirror_mode": {
    "name": "ipython",
    "version": 3
   },
   "file_extension": ".py",
   "mimetype": "text/x-python",
   "name": "python",
   "nbconvert_exporter": "python",
   "pygments_lexer": "ipython3",
   "version": "3.9.12"
  }
 },
 "nbformat": 4,
 "nbformat_minor": 5
}
