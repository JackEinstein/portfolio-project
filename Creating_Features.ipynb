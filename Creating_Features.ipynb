{
 "cells": [
  {
   "cell_type": "code",
   "execution_count": 1,
   "id": "f019e666",
   "metadata": {
    "scrolled": true
   },
   "outputs": [],
   "source": [
    "import numpy as np\n",
    "import pandas as pd\n",
    "from sklearn.model_selection import cross_val_score\n",
    "from xgboost import XGBRegressor"
   ]
  },
  {
   "cell_type": "code",
   "execution_count": 2,
   "id": "6f1175c8",
   "metadata": {},
   "outputs": [],
   "source": [
    "def score_dataset(X, y, model=XGBRegressor()):\n",
    "    # Label encoding for categoricals\n",
    "    for colname in X.select_dtypes([\"category\", \"object\"]):\n",
    "        X[colname], _ = X[colname].factorize()\n",
    "    # Metric for Housing competition is RMSLE (Root Mean Squared Log Error)\n",
    "    score = cross_val_score(\n",
    "        model, X, y, cv=5, scoring=\"neg_mean_squared_log_error\",\n",
    "    )\n",
    "    score = -1 * score.mean()\n",
    "    score = np.sqrt(score)\n",
    "    return score"
   ]
  },
  {
   "cell_type": "code",
   "execution_count": 3,
   "id": "64d6921c",
   "metadata": {},
   "outputs": [],
   "source": [
    "# Prepare data\n",
    "df = pd.read_csv(r'C:\\Users\\Lenovo\\ames.csv')\n",
    "X = df.copy()\n",
    "y = X.pop(\"SalePrice\")"
   ]
  },
  {
   "cell_type": "markdown",
   "id": "eb92f60d",
   "metadata": {},
   "source": [
    "1) Create Mathematical Transforms\n",
    "Create the following features:\n",
    "\n",
    "LivLotRatio: the ratio of GrLivArea to LotArea\n",
    "\n",
    "TotalOutsideSF: the sum of WoodDeckSF, OpenPorchSF, EnclosedPorch, and ScreenPorch"
   ]
  },
  {
   "cell_type": "code",
   "execution_count": 4,
   "id": "8e484063",
   "metadata": {},
   "outputs": [],
   "source": [
    "X_1 = pd.DataFrame()  # dataframe to hold new features\n",
    "\n",
    "X_1[\"LivLotRatio\"] = df.GrLivArea / df.LotArea\n",
    "\n",
    "X_1[\"TotalOutsideSF\"] = df.WoodDeckSF + df.OpenPorchSF + df.EnclosedPorch + df.ScreenPorch"
   ]
  },
  {
   "cell_type": "markdown",
   "id": "c5c66d20",
   "metadata": {},
   "source": [
    "2) Interaction with a Categorical\n",
    "\n",
    "We discovered an interaction between BldgType and GrLivArea. Now create their interaction features."
   ]
  },
  {
   "cell_type": "code",
   "execution_count": 5,
   "id": "a8d80215",
   "metadata": {},
   "outputs": [],
   "source": [
    "# One-hot encode BldgType. Use `prefix=\"Bldg\"` in `get_dummies`\n",
    "X_2 = pd.get_dummies(df.BldgType, prefix=\"Bldg\")\n",
    "# Multiply\n",
    "X_2 = X_2.mul(df.GrLivArea, axis=0)"
   ]
  },
  {
   "cell_type": "markdown",
   "id": "ce07565b",
   "metadata": {},
   "source": [
    "3) Count Feature\n",
    "\n",
    "Let's try creating a feature that describes how many kinds of outdoor areas a dwelling has. Create a feature PorchTypes that counts how many of the following are greater than 0.0:\n",
    "\n",
    "WoodDeckSF\n",
    "OpenPorchSF\n",
    "EnclosedPorch\n",
    "ScreenPorch"
   ]
  },
  {
   "cell_type": "code",
   "execution_count": 6,
   "id": "b5a505e5",
   "metadata": {},
   "outputs": [],
   "source": [
    "X_3 = pd.DataFrame()\n",
    "\n",
    "# YOUR CODE HERE\n",
    "X_3[\"PorchTypes\"] = df[[\n",
    "    \"WoodDeckSF\",\n",
    "    \"OpenPorchSF\",\n",
    "    \"EnclosedPorch\",\n",
    "    \"ScreenPorch\",\n",
    "]].gt(0.0).sum(axis=1)"
   ]
  },
  {
   "cell_type": "markdown",
   "id": "68c273e6",
   "metadata": {},
   "source": [
    "4) Break Down a Categorical Feature\n",
    "\n",
    "MSSubClass describes the type of a dwelling:"
   ]
  },
  {
   "cell_type": "code",
   "execution_count": 7,
   "id": "65d57adc",
   "metadata": {},
   "outputs": [
    {
     "data": {
      "text/plain": [
       "array(['One_Story_1946_and_Newer_All_Styles', 'Two_Story_1946_and_Newer',\n",
       "       'One_Story_PUD_1946_and_Newer',\n",
       "       'One_and_Half_Story_Finished_All_Ages', 'Split_Foyer',\n",
       "       'Two_Story_PUD_1946_and_Newer', 'Split_or_Multilevel',\n",
       "       'One_Story_1945_and_Older', 'Duplex_All_Styles_and_Ages',\n",
       "       'Two_Family_conversion_All_Styles_and_Ages',\n",
       "       'One_and_Half_Story_Unfinished_All_Ages',\n",
       "       'Two_Story_1945_and_Older', 'Two_and_Half_Story_All_Ages',\n",
       "       'One_Story_with_Finished_Attic_All_Ages',\n",
       "       'PUD_Multilevel_Split_Level_Foyer',\n",
       "       'One_and_Half_Story_PUD_All_Ages'], dtype=object)"
      ]
     },
     "execution_count": 7,
     "metadata": {},
     "output_type": "execute_result"
    }
   ],
   "source": [
    "df.MSSubClass.unique()"
   ]
  },
  {
   "cell_type": "markdown",
   "id": "1d74c8a7",
   "metadata": {},
   "source": [
    "There is a more general categorization described (roughly) by the first word of each category. Create a feature containing only these first words by splitting `MSSubClass` at the first underscore `_`. (Hint: In the `split` method use an argument `n=1`.)"
   ]
  },
  {
   "cell_type": "code",
   "execution_count": 8,
   "id": "b06655dc",
   "metadata": {},
   "outputs": [
    {
     "name": "stdout",
     "output_type": "stream",
     "text": [
      "0    One\n",
      "1    One\n",
      "2    One\n",
      "3    One\n",
      "4    Two\n",
      "Name: MSClass, dtype: object\n"
     ]
    }
   ],
   "source": [
    "X_4 = pd.DataFrame()\n",
    "\n",
    "# YOUR CODE HERE\n",
    "X_4[\"MSClass\"] = df.MSSubClass.str.split(\"_\", n=1, expand=True)[0]\n",
    "\n",
    "print(X_4[\"MSClass\"].head())"
   ]
  },
  {
   "cell_type": "markdown",
   "id": "5d648ae7",
   "metadata": {},
   "source": [
    "5) Use a Grouped Transform\n",
    "\n",
    "The value of a home often depends on how it compares to typical homes in its neighborhood. Create a feature MedNhbdArea that describes the median of GrLivArea grouped on Neighborhood"
   ]
  },
  {
   "cell_type": "code",
   "execution_count": 9,
   "id": "ccf3e4ac",
   "metadata": {},
   "outputs": [],
   "source": [
    "X_5 = pd.DataFrame()\n",
    "\n",
    "# YOUR CODE HERE\n",
    "X_5[\"MedNhbdArea\"] = df.groupby(\"Neighborhood\")[\"GrLivArea\"].transform(\"median\")"
   ]
  },
  {
   "cell_type": "code",
   "execution_count": 10,
   "id": "9670a4ce",
   "metadata": {},
   "outputs": [
    {
     "data": {
      "text/plain": [
       "0.14078866303854287"
      ]
     },
     "execution_count": 10,
     "metadata": {},
     "output_type": "execute_result"
    }
   ],
   "source": [
    "X_new = X.join([X_1, X_2, X_3, X_5])\n",
    "score_dataset(X_new, y)"
   ]
  }
 ],
 "metadata": {
  "kernelspec": {
   "display_name": "Python 3 (ipykernel)",
   "language": "python",
   "name": "python3"
  },
  "language_info": {
   "codemirror_mode": {
    "name": "ipython",
    "version": 3
   },
   "file_extension": ".py",
   "mimetype": "text/x-python",
   "name": "python",
   "nbconvert_exporter": "python",
   "pygments_lexer": "ipython3",
   "version": "3.9.7"
  }
 },
 "nbformat": 4,
 "nbformat_minor": 5
}
