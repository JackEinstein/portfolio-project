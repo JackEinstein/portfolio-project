{
 "cells": [
  {
   "cell_type": "code",
   "execution_count": 1,
   "id": "3d17dbfc",
   "metadata": {},
   "outputs": [],
   "source": [
    "import csv\n",
    "from datetime import datetime\n",
    "import requests\n",
    "from bs4 import BeautifulSoup"
   ]
  },
  {
   "cell_type": "code",
   "execution_count": 37,
   "id": "97120030",
   "metadata": {},
   "outputs": [],
   "source": [
    "def get_url(position, location):\n",
    "    template = 'https://malaysia.indeed.com/jobs?q={}&l={}'\n",
    "    position = position.replace(' ', '+')\n",
    "    location = location.replace(' ', '+')\n",
    "    url = template.format(position, location)\n",
    "    return url"
   ]
  },
  {
   "cell_type": "code",
   "execution_count": 38,
   "id": "54ee237c",
   "metadata": {},
   "outputs": [
    {
     "name": "stdout",
     "output_type": "stream",
     "text": [
      "https://malaysia.indeed.com/jobs?q=data+scientist&l=kuala+lumpur\n"
     ]
    }
   ],
   "source": [
    "url = get_url('data scientist', 'kuala lumpur')\n",
    "print(url)"
   ]
  },
  {
   "cell_type": "code",
   "execution_count": 39,
   "id": "c22c74cc",
   "metadata": {},
   "outputs": [],
   "source": [
    "response = requests.get(url)"
   ]
  },
  {
   "cell_type": "code",
   "execution_count": 40,
   "id": "f527b54a",
   "metadata": {},
   "outputs": [
    {
     "data": {
      "text/plain": [
       "<Response [200]>"
      ]
     },
     "execution_count": 40,
     "metadata": {},
     "output_type": "execute_result"
    }
   ],
   "source": [
    "response"
   ]
  },
  {
   "cell_type": "code",
   "execution_count": 41,
   "id": "a3e87adb",
   "metadata": {},
   "outputs": [
    {
     "data": {
      "text/plain": [
       "''"
      ]
     },
     "execution_count": 41,
     "metadata": {},
     "output_type": "execute_result"
    }
   ],
   "source": [
    "response.reason"
   ]
  },
  {
   "cell_type": "markdown",
   "id": "483bb4e9",
   "metadata": {},
   "source": [
    "headers = {\"User-Agent\": \"Mozilla/5.0 (Windows NT 10.0; Win64; x64) AppleWebKit/537.36 (KHTML, like Gecko) Chrome/97.0.4692.71 Safari/537.36\", \"Accept-Encoding\":\"gzip, deflate\", \"Accept\":\"text/html,application/xhtml+xml,application/xml;q=0.9,*/*;q=0.8\", \"DNT\":\"1\",\"Connection\":\"close\", \"Upgrade-Insecure-Requests\":\"1\"}\n",
    "\n",
    "page = requests.get(url, headers=headers)\n",
    "\n",
    "soup1 = BeautifulSoup(page.content, \"html.parser\")\n",
    "\n",
    "soup2 = BeautifulSoup(soup1.prettify(), \"html.parser\")"
   ]
  },
  {
   "cell_type": "code",
   "execution_count": 50,
   "id": "1c8a5462",
   "metadata": {},
   "outputs": [],
   "source": [
    "soup = BeautifulSoup(response.text, 'html.parser')"
   ]
  },
  {
   "cell_type": "code",
   "execution_count": 67,
   "id": "beefcd3f",
   "metadata": {},
   "outputs": [],
   "source": [
    "cards = soup.find_all('div', 'job_seen_beacon')"
   ]
  },
  {
   "cell_type": "code",
   "execution_count": 243,
   "id": "9587d9c0",
   "metadata": {
    "scrolled": true
   },
   "outputs": [
    {
     "name": "stdout",
     "output_type": "stream",
     "text": [
      "<div class=\"job_seen_beacon\"><table cellpadding=\"0\" cellspacing=\"0\" class=\"jobCard_mainContent\" role=\"presentation\"><tbody><tr><td class=\"resultContent\"><div class=\"heading4 color-text-primary singleLineTitle tapItem-gutter\"><h2 class=\"jobTitle jobTitle-color-purple jobTitle-newJob\"><div class=\"new topLeft holisticNewBlue desktop\"><span class=\"label\">new</span></div><span title=\"Data Science Analyst\">Data Science Analyst</span></h2></div><div class=\"heading6 company_location tapItem-gutter\"><pre><span class=\"companyName\">Metapair</span><div class=\"companyLocation\">Kuala Lumpur<span class=\"remote-bullet\">•</span><span>Remote</span></div></pre></div><div class=\"heading6 tapItem-gutter metadataContainer\"><div class=\"metadata salary-snippet-container\"><div aria-label=\"RM 3,000 to RM 4,000 a month\" class=\"salary-snippet\"><span>RM 3,000 - RM 4,000 a month</span></div></div></div><div class=\"heading6 error-text tapItem-gutter\"></div></td></tr></tbody></table><table class=\"jobCardShelfContainer\" role=\"presentation\"><tbody><tr class=\"jobCardShelf\"><td class=\"shelfItem indeedApply\"><span class=\"iaIcon\"></span><span class=\"ialbl iaTextBlack\">Apply without logging in</span></td><td class=\"shelfItem responsiveEmployer\"><div><span class=\"responsiveEmployerIcon\"></span>Responsive employer</div></td></tr><tr class=\"underShelfFooter\"><td><div class=\"heading6 tapItem-gutter result-footer\"><div class=\"job-snippet\"><ul style=\"list-style-type:circle;margin-top: 0px;margin-bottom: 0px;padding-left:20px;\">\n",
      "<li style=\"margin-bottom:0px;\">Telling a story with <b>data</b> and <b>data</b> visualisation.</li>\n",
      "<li style=\"margin-bottom:0px;\">Extending the company’s <b>data</b> with third party sources of information when needed.</li>\n",
      "<li>A Deep understanding of NLP.</li>\n",
      "</ul></div><span class=\"date\"><span class=\"visually-hidden\">Employer</span>Active 3 days ago</span><span class=\"result-link-bar-separator\">·</span><button aria-expanded=\"false\" class=\"sl resultLink more_links_button\" type=\"button\">More...</button></div><div class=\"tab-container\"><div class=\"more-links-container result-tab\" role=\"presentation\"><div class=\"more_links\"><button aria-label=\"Close\" class=\"close-button\" title=\"Close\" type=\"button\"></button><ul><li><span class=\"mat\">View all <a href=\"/Metapair-jobs\">Metapair jobs</a> - <a href=\"/jobs-in-Kuala-Lumpur\">Kuala Lumpur jobs</a></span></li><li><span class=\"mat\">Salary Search: <a href=\"/career/data-scientist/salaries/Kuala-Lumpur?campaignid=serp-more&amp;fromjk=d6ae7c1fa4ad9e73&amp;from=serp-more\">Data Science Analyst salaries in Kuala Lumpur</a></span></li></ul></div></div></div></td></tr></tbody></table><div aria-live=\"polite\"></div></div>\n"
     ]
    }
   ],
   "source": [
    "card = cards[1]\n",
    "print(card)"
   ]
  },
  {
   "cell_type": "code",
   "execution_count": 244,
   "id": "c63f842d",
   "metadata": {},
   "outputs": [
    {
     "name": "stdout",
     "output_type": "stream",
     "text": [
      "Data Science Analyst\n"
     ]
    }
   ],
   "source": [
    "job_title = card.find('div','heading4 color-text-primary singleLineTitle tapItem-gutter').get_text('title').replace('newtitle', '')\n",
    "\n",
    "print(job_title)"
   ]
  },
  {
   "cell_type": "code",
   "execution_count": 245,
   "id": "0e840c0b",
   "metadata": {},
   "outputs": [
    {
     "name": "stdout",
     "output_type": "stream",
     "text": [
      "Metapair\n"
     ]
    }
   ],
   "source": [
    "company = card.find('span', 'companyName').text.strip()\n",
    "print(company)"
   ]
  },
  {
   "cell_type": "code",
   "execution_count": 246,
   "id": "b90da6f2",
   "metadata": {},
   "outputs": [
    {
     "name": "stdout",
     "output_type": "stream",
     "text": [
      "Kuala Lumpur\n"
     ]
    }
   ],
   "source": [
    "job_location = card.find('div', 'companyLocation').text.replace('•Temporarily Remote', '').replace('•Remote', '')\n",
    "print(job_location)"
   ]
  },
  {
   "cell_type": "code",
   "execution_count": 253,
   "id": "c136b1cb",
   "metadata": {},
   "outputs": [
    {
     "name": "stdout",
     "output_type": "stream",
     "text": [
      "3 days ago\n",
      "2022-01-07\n"
     ]
    }
   ],
   "source": [
    "post_date = card.find('span', 'date').text.replace('Posted', '').replace('EmployerActive ', '')\n",
    "today = datetime.today().strftime('%Y-%m-%d')\n",
    "print(post_date)\n",
    "print(today)"
   ]
  },
  {
   "cell_type": "code",
   "execution_count": 261,
   "id": "08cf3316",
   "metadata": {},
   "outputs": [
    {
     "name": "stdout",
     "output_type": "stream",
     "text": [
      "RM 3,000 - RM 4,000\n"
     ]
    }
   ],
   "source": [
    "# this does not exists for all jobs, so handle the exceptions\n",
    "try: \n",
    "    salary = card.find('div','metadata salary-snippet-container').get_text('aria-label').replace(' a month', '')\n",
    "    print(salary)\n",
    "except:\n",
    "    salary = ''  "
   ]
  },
  {
   "cell_type": "code",
   "execution_count": 262,
   "id": "b1a00c4b",
   "metadata": {},
   "outputs": [
    {
     "name": "stdout",
     "output_type": "stream",
     "text": [
      "Telling a story with data and data visualisation. Extending the company’s data with third party sources of information when needed. A Deep understanding of NLP.\n"
     ]
    }
   ],
   "source": [
    "summary = card.find('div', 'job-snippet').text.strip().replace('\\n', ' ')\n",
    "print(summary)"
   ]
  },
  {
   "cell_type": "code",
   "execution_count": 263,
   "id": "2d051a52",
   "metadata": {},
   "outputs": [],
   "source": [
    "record = (job_title, company, job_location, post_date, today, summary, salary)"
   ]
  },
  {
   "cell_type": "code",
   "execution_count": 264,
   "id": "51bbb25e",
   "metadata": {},
   "outputs": [
    {
     "name": "stdout",
     "output_type": "stream",
     "text": [
      "('Data Science Analyst', 'Metapair', 'Kuala Lumpur', '3 days ago', '2022-01-07', 'Telling a story with data and data visualisation. Extending the company’s data with third party sources of information when needed. A Deep understanding of NLP.', 'RM 3,000 - RM 4,000')\n"
     ]
    }
   ],
   "source": [
    "print(record)"
   ]
  },
  {
   "cell_type": "code",
   "execution_count": 266,
   "id": "99e8cda9",
   "metadata": {},
   "outputs": [],
   "source": [
    "def get_record(card):\n",
    "    \"\"\"Extract job data from a single record\"\"\"\n",
    "    \n",
    "    job_title = card.find('div','heading4 color-text-primary singleLineTitle tapItem-gutter').get_text('title').replace('newtitle', '')\n",
    "    company = card.find('span', 'companyName').text.strip()\n",
    "    job_location = card.find('div', 'companyLocation').text.replace('•Temporarily Remote', '').replace('•Remote', '')\n",
    "    post_date = card.find('span', 'date').text.replace('Posted', '').replace('EmployerActive ', '')\n",
    "    today = datetime.today().strftime('%Y-%m-%d')\n",
    "    summary = card.find('div', 'job-snippet').text.strip().replace('\\n', ' ')\n",
    "\n",
    "    # this does not exists for all jobs, so handle the exceptions\n",
    "    try: \n",
    "        salary = card.find('div','metadata salary-snippet-container').get_text('aria-label').replace(' a month', '')\n",
    "        print(salary)\n",
    "    except:\n",
    "        salary = ''  \n",
    "        \n",
    "    record = (job_title, company, job_location, post_date, today, summary, salary)\n",
    "    return record"
   ]
  },
  {
   "cell_type": "code",
   "execution_count": 267,
   "id": "7a2d4d32",
   "metadata": {},
   "outputs": [
    {
     "name": "stdout",
     "output_type": "stream",
     "text": [
      "RM 3,000 - RM 4,000\n",
      "RM 5,000 - RM 8,000\n",
      "RM 4,000 - RM 10,000\n",
      "RM 5,000 - RM 7,000\n"
     ]
    }
   ],
   "source": [
    "records = []\n",
    "\n",
    "for card in cards:\n",
    "    record = get_record(card)\n",
    "    records.append(record)"
   ]
  },
  {
   "cell_type": "code",
   "execution_count": 273,
   "id": "faba923e",
   "metadata": {},
   "outputs": [
    {
     "data": {
      "text/plain": [
       "[('Data Scientist - Customer and Propositions',\n",
       "  'HSBC',\n",
       "  'Kuala Lumpur',\n",
       "  '30+ days ago',\n",
       "  '2022-01-07',\n",
       "  'Leverage existing data and identify new data sources to drive proposition development. Mine through large data sets to uncover trends, insights, and…',\n",
       "  ''),\n",
       " ('Data Science Analyst',\n",
       "  'Metapair',\n",
       "  'Kuala Lumpur',\n",
       "  '3 days ago',\n",
       "  '2022-01-07',\n",
       "  'Telling a story with data and data visualisation. Extending the company’s data with third party sources of information when needed. A Deep understanding of NLP.',\n",
       "  'RM 3,000 - RM 4,000'),\n",
       " ('Internship, Data Analyst',\n",
       "  'AXIATA DIGITAL & ANALYTICS',\n",
       "  'Kuala Lumpur',\n",
       "  '15 days ago',\n",
       "  '2022-01-07',\n",
       "  'Reach out to multiple stakeholders , business vertical, data engineer, data scientist and dashboard developer to document the data schema , process flow and…',\n",
       "  ''),\n",
       " ('Data Scientist',\n",
       "  'RHB Bank Berhad',\n",
       "  'Kuala Lumpur',\n",
       "  '1 day ago',\n",
       "  '2022-01-07',\n",
       "  'Demonstrate efficiency through contributing to and applying bank-wide best practices in analytics and data. Assess applicability of advanced analytics methods…',\n",
       "  'RM 5,000 - RM 8,000'),\n",
       " ('Data Scientist',\n",
       "  'BIOQUEST ADVISORY SDN. BHD.',\n",
       "  'Kuala Lumpur',\n",
       "  '6 days ago',\n",
       "  '2022-01-07',\n",
       "  'Working with our client’s data team to source and collate data from various entities for later use by junior data scientists. In-depth understanding of SQL.',\n",
       "  'RM 4,000 - RM 10,000'),\n",
       " ('Data Scientist',\n",
       "  'Amili',\n",
       "  'Kuala Lumpur',\n",
       "  '2 days ago',\n",
       "  '2022-01-07',\n",
       "  'Defining clear technical specifications from high-level business requirements. Determining the most fruitful approaches, and have the motivation to explore them…',\n",
       "  'RM 5,000 - RM 7,000'),\n",
       " ('SEA Data Scientist (Associate/Analyst/Consultant)',\n",
       "  'Deloitte',\n",
       "  'Kuala Lumpur',\n",
       "  '30+ days ago',\n",
       "  '2022-01-07',\n",
       "  'Prior exposure to the field of data science working with structured data is preferred, in particular, applying supervised and unsupervised machine learning…',\n",
       "  ''),\n",
       " ('Data Scientist',\n",
       "  'AXIATA DIGITAL & ANALYTICS',\n",
       "  'Kuala Lumpur',\n",
       "  '15 days ago',\n",
       "  '2022-01-07',\n",
       "  'Driving efficiencies in business with automation of data and information, and identifying areas of opportunity where existing data could provide enhanced…',\n",
       "  ''),\n",
       " ('Strategic Customer Insights Data Scientist',\n",
       "  'HSBC',\n",
       "  'Kuala Lumpur',\n",
       "  '30+ days ago',\n",
       "  '2022-01-07',\n",
       "  'Synthesize complex data analysis and insights into easy to understand, effective data storytelling. Lead projects related to text analytics, predictive…',\n",
       "  ''),\n",
       " ('Data Scientist',\n",
       "  'AirAsia',\n",
       "  'Kuala Lumpur',\n",
       "  '30+ days ago',\n",
       "  '2022-01-07',\n",
       "  'Exploratory analysis: use data to suggest and prove hypotheses. Data operations: query data, deploy models and automate pipelines in cloud.',\n",
       "  ''),\n",
       " ('Data Scientist',\n",
       "  'SOCAR Mobility Asia',\n",
       "  'Kuala Lumpur',\n",
       "  '1 day ago',\n",
       "  '2022-01-07',\n",
       "  'Analyze historical loss events from a mixture of motor insurance claims data and cash repairs within SOCAR and Trevo, and classify policy holders into clusters…',\n",
       "  ''),\n",
       " ('Internship, Data Analyst',\n",
       "  'ADA',\n",
       "  'Kuala Lumpur',\n",
       "  '30+ days ago',\n",
       "  '2022-01-07',\n",
       "  'Reach out to multiple stakeholders , business vertical, data engineer, data scientist and dashboard developer to document the data schema , process flow and…',\n",
       "  ''),\n",
       " ('Campaign Scientist',\n",
       "  'AirAsia',\n",
       "  'Kuala Lumpur',\n",
       "  '1 day ago',\n",
       "  '2022-01-07',\n",
       "  'Serve as technical subject expert by understand underlying data, database, data processes and derivations to provide appropriate consultation / recommendation…',\n",
       "  ''),\n",
       " ('Data Scientist - Data Cycling Center',\n",
       "  'TikTok',\n",
       "  'Kuala Lumpur',\n",
       "  '30+ days ago',\n",
       "  '2022-01-07',\n",
       "  'Liaise with team members and management in understanding their data needs and providing data support. Understand underlying data sources and their limitations.',\n",
       "  ''),\n",
       " ('Data Scientist',\n",
       "  'Supahands Dotcom Sdn Bhd',\n",
       "  'Kuala Lumpur',\n",
       "  '22 days ago',\n",
       "  '2022-01-07',\n",
       "  'Every data scientist at Supahands will be given ownership of the entire data science process. Develop custom data models and algorithms to apply to data sets.',\n",
       "  '')]"
      ]
     },
     "execution_count": 273,
     "metadata": {},
     "output_type": "execute_result"
    }
   ],
   "source": [
    "records"
   ]
  },
  {
   "cell_type": "code",
   "execution_count": 318,
   "id": "fecfa874",
   "metadata": {},
   "outputs": [
    {
     "name": "stdout",
     "output_type": "stream",
     "text": [
      "https://malaysia.indeed.com/jobs?q=data+scientist&l=kuala+lumpur&start=10\n"
     ]
    }
   ],
   "source": [
    "while True:\n",
    "    try:\n",
    "        url = 'https://malaysia.indeed.com' + soup.find('a', {'aria-label': '2'}).get('href')\n",
    "        print(url)\n",
    "    except AttributeError:\n",
    "        break\n",
    "\n",
    "    response = requests.get(url)\n",
    "    soup = BeautifulSoup(response.text, 'html.parser')\n",
    "    cards = soup.find_all('div', 'job_seen_beacon')\n",
    "\n",
    "    for card in cards:\n",
    "        record = get_record(card)\n",
    "        records.append(record)"
   ]
  },
  {
   "cell_type": "code",
   "execution_count": 327,
   "id": "fae9fbae",
   "metadata": {},
   "outputs": [],
   "source": [
    "import csv\n",
    "from datetime import datetime\n",
    "import requests\n",
    "from bs4 import BeautifulSoup\n",
    "\n",
    "\n",
    "def get_url(position, location):\n",
    "    template = 'https://malaysia.indeed.com/jobs?q={}&l={}'\n",
    "    position = position.replace(' ', '+')\n",
    "    location = location.replace(' ', '+')\n",
    "    url = template.format(position, location)\n",
    "    return url\n",
    "\n",
    "\n",
    "def get_record(card):\n",
    "    \"\"\"Extract job data from a single record\"\"\"\n",
    "    \n",
    "    job_title = card.find('div','heading4 color-text-primary singleLineTitle tapItem-gutter').get_text('title').replace('newtitle', '')\n",
    "    company = card.find('span', 'companyName').text.strip()\n",
    "    job_location = card.find('div', 'companyLocation').text.replace('•Temporarily Remote', '').replace('•Remote', '')\n",
    "    post_date = card.find('span', 'date').text.replace('Posted', '').replace('EmployerActive ', '')\n",
    "    today = datetime.today().strftime('%Y-%m-%d')\n",
    "    summary = card.find('div', 'job-snippet').text.strip().replace('\\n', ' ')\n",
    "\n",
    "    # this does not exists for all jobs, so handle the exceptions\n",
    "    try: \n",
    "        salary = card.find('div','metadata salary-snippet-container').get_text('aria-label').replace(' a month', '').replace(' a year', '')\n",
    "        print(salary)\n",
    "    except:\n",
    "        salary = ''  \n",
    "        \n",
    "    record = (job_title, company, job_location, post_date, today, summary, salary)\n",
    "    return record\n",
    "\n",
    "\n",
    "def main(position, location):\n",
    "    \"\"\"Run the main program routine\"\"\"\n",
    "    records = []\n",
    "    url = get_url(position, location)\n",
    "    next = 2\n",
    "    # extract the job data\n",
    "    while True:\n",
    "        response = requests.get(url)\n",
    "        soup = BeautifulSoup(response.text, 'html.parser')\n",
    "        cards = soup.find_all('div', 'job_seen_beacon')\n",
    "        \n",
    "        for card in cards:\n",
    "            record = get_record(card)\n",
    "            records.append(record)\n",
    "        try:\n",
    "            url = 'https://malaysia.indeed.com' + soup.find('a', {'aria-label': str(next)}).get('href')\n",
    "            print(url)\n",
    "            next = next+1\n",
    "            print(next)\n",
    "        except AttributeError:\n",
    "            break\n",
    "        \n",
    "    # save the job data\n",
    "    with open('results.csv', 'w', newline='', encoding='utf-8') as f:\n",
    "        writer = csv.writer(f)\n",
    "        writer.writerow(['JobTitle', 'Company', 'Location', 'PostDate', 'ExtractDate', 'Summary', 'Salary'])\n",
    "        writer.writerows(records)"
   ]
  },
  {
   "cell_type": "code",
   "execution_count": 329,
   "id": "2823c43e",
   "metadata": {},
   "outputs": [
    {
     "name": "stdout",
     "output_type": "stream",
     "text": [
      "RM 5,000 - RM 7,000\n",
      "RM 3,000 - RM 4,000\n",
      "RM 1,030\n",
      "RM 750\n",
      "RM 3,500 - RM 5,500\n",
      "RM 5,000 - RM 5,999\n",
      "RM 500 - RM 800\n",
      "https://malaysia.indeed.com/jobs?q=data+science&l=kuala+lumpur&start=10\n",
      "3\n",
      "RM 2,000 - RM 2,499\n",
      "RM 3,308 - RM 11,744\n",
      "RM 1,200 - RM 1,500\n",
      "RM 800 - RM 1,000\n",
      "RM 4,000 - RM 10,000\n",
      "RM 1,000\n",
      "https://malaysia.indeed.com/jobs?q=data+science&l=kuala+lumpur&start=20\n",
      "4\n",
      "RM 3,000 - RM 8,000\n",
      "RM 2,500 - RM 4,500\n",
      "RM 3,200\n",
      "https://malaysia.indeed.com/jobs?q=data+science&l=kuala+lumpur&start=30\n",
      "5\n",
      "RM 6,000\n",
      "RM 3,000 - RM 8,000\n",
      "RM 800\n",
      "RM 2,800 - RM 4,000\n",
      "https://malaysia.indeed.com/jobs?q=data+science&l=kuala+lumpur&start=40\n",
      "6\n",
      "RM 7,000 - RM 12,000\n",
      "RM 3,000 - RM 3,499\n",
      "https://malaysia.indeed.com/jobs?q=data+science&l=kuala+lumpur&start=50\n",
      "7\n",
      "RM 4,500 - RM 5,500\n",
      "RM 2,800 - RM 3,500\n",
      "RM 8,000 - RM 9,999\n",
      "RM 5,000 - RM 13,000\n",
      "https://malaysia.indeed.com/jobs?q=data+science&l=kuala+lumpur&start=60\n",
      "8\n",
      "RM 5,500\n",
      "RM 800\n",
      "RM 6,000 - RM 8,000\n",
      "RM 4,000 - RM 8,000\n",
      "RM 3,500 - RM 5,000\n",
      "RM 1,000\n",
      "RM 4,000 - RM 4,500\n",
      "https://malaysia.indeed.com/jobs?q=data+science&l=kuala+lumpur&start=70\n",
      "9\n",
      "RM 3,000 - RM 3,500\n",
      "RM 8,000 - RM 9,999\n",
      "RM 8,500\n",
      "RM 2,500 - RM 4,500\n",
      "https://malaysia.indeed.com/jobs?q=data+science&l=kuala+lumpur&start=80\n",
      "10\n",
      "RM 4,000 - RM 5,000\n",
      "RM 3,500\n",
      "RM 3,500 - RM 5,000\n",
      "https://malaysia.indeed.com/jobs?q=data+science&l=kuala+lumpur&start=90\n",
      "11\n",
      "RM 3,000 - RM 3,500\n",
      "https://malaysia.indeed.com/jobs?q=data+science&l=kuala+lumpur&start=100\n",
      "12\n",
      "RM 2,500 - RM 4,000\n",
      "RM 108,000\n",
      "RM 10,000 - RM 12,999\n",
      "RM 2,500 - RM 3,000\n",
      "RM 10,000 - RM 15,000\n",
      "https://malaysia.indeed.com/jobs?q=data+science&l=kuala+lumpur&start=110\n",
      "13\n",
      "RM 3,200 - RM 5,136\n",
      "https://malaysia.indeed.com/jobs?q=data+science&l=kuala+lumpur&start=120\n",
      "14\n",
      "RM 3,000 - RM 5,000\n",
      "RM 3,000 - RM 3,499\n",
      "RM 3,000 - RM 6,000\n",
      "https://malaysia.indeed.com/jobs?q=data+science&l=kuala+lumpur&start=130\n",
      "15\n",
      "RM 3,000 - RM 6,000\n",
      "https://malaysia.indeed.com/jobs?q=data+science&l=kuala+lumpur&start=140\n",
      "16\n",
      "RM 5,500 - RM 8,000\n",
      "RM 2,000 - RM 8,000\n",
      "RM 3,236\n",
      "RM 2,000\n",
      "RM 500 - RM 800\n",
      "https://malaysia.indeed.com/jobs?q=data+science&l=kuala+lumpur&start=150\n",
      "17\n",
      "RM 500 - RM 800\n",
      "RM 800 - RM 900\n",
      "RM 3,553 - RM 10,000\n",
      "RM 800 - RM 1,000\n",
      "RM 10,000 - RM 17,000\n",
      "https://malaysia.indeed.com/jobs?q=data+science&l=kuala+lumpur&start=160\n",
      "18\n",
      "RM 4,000 - RM 5,000\n",
      "RM 1,800 - RM 4,000\n",
      "https://malaysia.indeed.com/jobs?q=data+science&l=kuala+lumpur&start=170\n",
      "19\n",
      "RM 4,000 - RM 4,500\n",
      "RM 3,500 - RM 3,999\n",
      "RM 3,000 - RM 3,499\n",
      "RM 8,000 - RM 9,999\n",
      "https://malaysia.indeed.com/jobs?q=data+science&l=kuala+lumpur&start=180\n",
      "20\n",
      "RM 4,000\n",
      "RM 600 - RM 900\n",
      "RM 3,000 - RM 4,000\n",
      "https://malaysia.indeed.com/jobs?q=data+science&l=kuala+lumpur&start=190\n",
      "21\n",
      "RM 2,500\n",
      "https://malaysia.indeed.com/jobs?q=data+science&l=kuala+lumpur&start=200\n",
      "22\n",
      "RM 3,500 - RM 5,001\n",
      "RM 3,800\n",
      "RM 36,000 - RM 60,000\n",
      "https://malaysia.indeed.com/jobs?q=data+science&l=kuala+lumpur&start=210\n",
      "23\n",
      "RM 10,000 - RM 17,000\n",
      "RM 11,587\n",
      "RM 6,000 - RM 7,999\n",
      "https://malaysia.indeed.com/jobs?q=data+science&l=kuala+lumpur&start=220\n",
      "24\n",
      "RM 4,000 - RM 6,000\n",
      "RM 8,000 - RM 9,999\n",
      "RM 5,000 - RM 8,000\n",
      "RM 900\n",
      "RM 4,500 - RM 8,000\n",
      "https://malaysia.indeed.com/jobs?q=data+science&l=kuala+lumpur&start=230\n",
      "25\n",
      "RM 3,300 - RM 4,000\n",
      "RM 3,000 - RM 3,499\n",
      "https://malaysia.indeed.com/jobs?q=data+science&l=kuala+lumpur&start=240\n",
      "26\n",
      "RM 4,000 - RM 5,000\n",
      "RM 4,000 - RM 4,999\n",
      "RM 8,000 - RM 9,999\n",
      "RM 2,000 - RM 6,000\n",
      "RM 5,000 - RM 5,999\n",
      "RM 3,000 - RM 3,499\n",
      "https://malaysia.indeed.com/jobs?q=data+science&l=kuala+lumpur&start=250\n",
      "27\n",
      "RM 12,400\n",
      "RM 8,000 - RM 9,999\n",
      "https://malaysia.indeed.com/jobs?q=data+science&l=kuala+lumpur&start=260\n",
      "28\n",
      "RM 10,000 - RM 12,999\n",
      "RM 6,000\n",
      "https://malaysia.indeed.com/jobs?q=data+science&l=kuala+lumpur&start=270\n",
      "29\n",
      "RM 4,500 - RM 7,500\n",
      "RM 5,000 - RM 8,000\n",
      "RM 8,000 - RM 15,000\n",
      "https://malaysia.indeed.com/jobs?q=data+science&l=kuala+lumpur&start=280\n",
      "30\n",
      "RM 1,200\n",
      "RM 4,000 - RM 5,300\n",
      "RM 4,500 - RM 7,500\n",
      "RM 8,000 - RM 9,999\n",
      "https://malaysia.indeed.com/jobs?q=data+science&l=kuala+lumpur&start=290\n",
      "31\n",
      "RM 8,000 - RM 9,999\n",
      "RM 5,000 - RM 7,000\n",
      "RM 8,000 - RM 9,999\n",
      "RM 20,000\n",
      "RM 2,000\n",
      "https://malaysia.indeed.com/jobs?q=data+science&l=kuala+lumpur&start=300\n",
      "32\n",
      "RM 3,000 - RM 3,200\n",
      "RM 10,000\n",
      "RM 8,000\n",
      "RM 6,000 - RM 8,500\n",
      "RM 5,000 - RM 9,000\n",
      "https://malaysia.indeed.com/jobs?q=data+science&l=kuala+lumpur&start=310\n",
      "33\n",
      "RM 5,000 - RM 9,000\n",
      "RM 8,000 - RM 9,999\n",
      "RM 2,500 - RM 3,500\n",
      "RM 390,000\n",
      "https://malaysia.indeed.com/jobs?q=data+science&l=kuala+lumpur&start=320\n",
      "34\n",
      "RM 3,000 - RM 8,000\n",
      "RM 10,000 - RM 12,999\n",
      "RM 3,000 - RM 3,499\n",
      "https://malaysia.indeed.com/jobs?q=data+science&l=kuala+lumpur&start=330\n",
      "35\n",
      "RM 6,000 - RM 7,000\n",
      "RM 20,000 - RM 25,000\n",
      "RM 10,000 - RM 12,999\n",
      "RM 13,000\n",
      "https://malaysia.indeed.com/jobs?q=data+science&l=kuala+lumpur&start=340\n",
      "36\n",
      "RM 10,000 - RM 12,999\n",
      "https://malaysia.indeed.com/jobs?q=data+science&l=kuala+lumpur&start=350\n",
      "37\n",
      "RM 6,000 - RM 7,999\n",
      "RM 5,000 - RM 5,999\n",
      "RM 6,000 - RM 12,000\n",
      "https://malaysia.indeed.com/jobs?q=data+science&l=kuala+lumpur&start=360\n",
      "38\n",
      "RM 10,000 - RM 12,999\n",
      "RM 2,500 - RM 6,000\n",
      "RM 6,500\n",
      "RM 4,500 - RM 8,000\n",
      "https://malaysia.indeed.com/jobs?q=data+science&l=kuala+lumpur&start=370\n",
      "39\n",
      "RM 4,500 - RM 6,000\n",
      "RM 2,699 - RM 4,000\n",
      "https://malaysia.indeed.com/jobs?q=data+science&l=kuala+lumpur&start=380\n",
      "40\n",
      "RM 15,000 - RM 18,000\n",
      "RM 7,000 - RM 9,000\n",
      "RM 5,000 - RM 7,000\n",
      "RM 10,000 - RM 12,999\n",
      "https://malaysia.indeed.com/jobs?q=data+science&l=kuala+lumpur&start=390\n",
      "41\n",
      "RM 2,500 - RM 4,000\n",
      "RM 5,000\n",
      "https://malaysia.indeed.com/jobs?q=data+science&l=kuala+lumpur&start=400\n",
      "42\n",
      "RM 15,000 - RM 16,000\n",
      "RM 4,000\n",
      "RM 2,100 - RM 3,000\n",
      "RM 3,000 - RM 5,000\n",
      "RM 3,000 - RM 7,000\n",
      "https://malaysia.indeed.com/jobs?q=data+science&l=kuala+lumpur&start=410\n",
      "43\n",
      "RM 9,000 - RM 15,000\n",
      "RM 7,000\n",
      "RM 11,939\n",
      "RM 3,541 - RM 10,896\n",
      "RM 7,000 - RM 9,000\n",
      "https://malaysia.indeed.com/jobs?q=data+science&l=kuala+lumpur&start=420\n",
      "44\n",
      "RM 6,000 - RM 7,999\n",
      "RM 5,000 - RM 16,000\n",
      "RM 8,000 - RM 9,999\n",
      "https://malaysia.indeed.com/jobs?q=data+science&l=kuala+lumpur&start=430\n",
      "45\n",
      "RM 4,000 - RM 4,999\n",
      "https://malaysia.indeed.com/jobs?q=data+science&l=kuala+lumpur&start=440\n",
      "46\n",
      "RM 4,000 - RM 7,000\n",
      "RM 17,000 - RM 18,000\n",
      "RM 6,000 - RM 10,000\n",
      "https://malaysia.indeed.com/jobs?q=data+science&l=kuala+lumpur&start=450\n",
      "47\n",
      "RM 5,000 - RM 5,999\n",
      "https://malaysia.indeed.com/jobs?q=data+science&l=kuala+lumpur&start=460\n",
      "48\n",
      "RM 7,000 - RM 9,000\n",
      "https://malaysia.indeed.com/jobs?q=data+science&l=kuala+lumpur&start=470\n",
      "49\n",
      "RM 5,000 - RM 8,000\n",
      "RM 1,200 - RM 1,501\n",
      "RM 3,000 - RM 3,500\n",
      "https://malaysia.indeed.com/jobs?q=data+science&l=kuala+lumpur&start=480\n",
      "50\n",
      "RM 5,000 - RM 10,000\n",
      "RM 10,000 - RM 12,000\n",
      "RM 4,000 - RM 7,500\n",
      "RM 4,000 - RM 6,000\n",
      "https://malaysia.indeed.com/jobs?q=data+science&l=kuala+lumpur&start=490\n",
      "51\n",
      "RM 4,000 - RM 6,000\n",
      "RM 3,000 - RM 3,500\n",
      "https://malaysia.indeed.com/jobs?q=data+science&l=kuala+lumpur&start=500\n",
      "52\n",
      "RM 4,800 - RM 5,500\n",
      "RM 22,000 - RM 30,000\n",
      "RM 3,500 - RM 8,000\n",
      "RM 6,000\n",
      "RM 4,214 - RM 11,364\n",
      "https://malaysia.indeed.com/jobs?q=data+science&l=kuala+lumpur&start=510\n",
      "53\n",
      "RM 8,000 - RM 9,999\n",
      "RM 5,000 - RM 13,000\n",
      "RM 5,000 - RM 8,500\n",
      "https://malaysia.indeed.com/jobs?q=data+science&l=kuala+lumpur&start=520\n",
      "54\n",
      "RM 8,000 - RM 9,999\n",
      "https://malaysia.indeed.com/jobs?q=data+science&l=kuala+lumpur&start=530\n",
      "55\n",
      "RM 4,000 - RM 6,000\n",
      "RM 4,000 - RM 5,000\n",
      "https://malaysia.indeed.com/jobs?q=data+science&l=kuala+lumpur&start=540\n",
      "56\n",
      "RM 3,432 - RM 10,389\n",
      "RM 3,000 - RM 7,000\n",
      "RM 9,000\n",
      "RM 6,000 - RM 12,000\n",
      "RM 6,000\n",
      "RM 3,000 - RM 12,000\n",
      "https://malaysia.indeed.com/jobs?q=data+science&l=kuala+lumpur&start=550\n",
      "57\n",
      "RM 3,000 - RM 12,000\n",
      "RM 20,000\n",
      "RM 6,000 - RM 7,999\n",
      "RM 8,000 - RM 9,999\n",
      "RM 3,000 - RM 5,000\n",
      "https://malaysia.indeed.com/jobs?q=data+science&l=kuala+lumpur&start=560\n",
      "58\n",
      "https://malaysia.indeed.com/jobs?q=data+science&l=kuala+lumpur&start=570\n",
      "59\n",
      "RM 6,000 - RM 7,999\n",
      "RM 3,000 - RM 5,000\n",
      "RM 8,001 - RM 14,001\n",
      "https://malaysia.indeed.com/jobs?q=data+science&l=kuala+lumpur&start=580\n",
      "60\n",
      "RM 13,000 - RM 15,999\n",
      "RM 6,000 - RM 12,000\n",
      "https://malaysia.indeed.com/jobs?q=data+science&l=kuala+lumpur&start=590\n",
      "61\n",
      "RM 9,000 - RM 9,500\n",
      "RM 3,000 - RM 5,000\n",
      "https://malaysia.indeed.com/jobs?q=data+science&l=kuala+lumpur&start=600\n",
      "62\n",
      "RM 7,000 - RM 12,000\n",
      "RM 8,000 - RM 9,999\n",
      "https://malaysia.indeed.com/jobs?q=data+science&l=kuala+lumpur&start=610\n",
      "63\n",
      "RM 7,000\n",
      "RM 7,000 - RM 15,000\n",
      "https://malaysia.indeed.com/jobs?q=data+science&l=kuala+lumpur&start=620\n",
      "64\n"
     ]
    },
    {
     "name": "stdout",
     "output_type": "stream",
     "text": [
      "RM 6,000 - RM 9,000\n",
      "RM 8,000 - RM 9,999\n",
      "RM 36,000 - RM 60,000\n",
      "https://malaysia.indeed.com/jobs?q=data+science&l=kuala+lumpur&start=630\n",
      "65\n",
      "RM 4,000 - RM 9,000\n",
      "RM 4,000 - RM 6,000\n",
      "RM 5,000 - RM 9,000\n",
      "RM 10,000 - RM 15,000\n",
      "RM 4,000 - RM 10,000\n",
      "https://malaysia.indeed.com/jobs?q=data+science&l=kuala+lumpur&start=640\n",
      "66\n",
      "RM 10,000\n",
      "RM 6,000 - RM 7,999\n",
      "https://malaysia.indeed.com/jobs?q=data+science&l=kuala+lumpur&start=650\n",
      "67\n",
      "https://malaysia.indeed.com/jobs?q=data+science&l=kuala+lumpur&start=660\n",
      "68\n",
      "RM 3,000 - RM 4,200\n"
     ]
    }
   ],
   "source": [
    "# run the main program\n",
    "main('data science', 'kuala lumpur')"
   ]
  },
  {
   "cell_type": "code",
   "execution_count": null,
   "id": "86cddaf9",
   "metadata": {},
   "outputs": [],
   "source": []
  }
 ],
 "metadata": {
  "kernelspec": {
   "display_name": "Python 3 (ipykernel)",
   "language": "python",
   "name": "python3"
  },
  "language_info": {
   "codemirror_mode": {
    "name": "ipython",
    "version": 3
   },
   "file_extension": ".py",
   "mimetype": "text/x-python",
   "name": "python",
   "nbconvert_exporter": "python",
   "pygments_lexer": "ipython3",
   "version": "3.9.7"
  }
 },
 "nbformat": 4,
 "nbformat_minor": 5
}
