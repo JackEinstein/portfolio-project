{
 "cells": [
  {
   "cell_type": "markdown",
   "id": "a05a8074",
   "metadata": {},
   "source": [
    "### Build a model to predict hotel cancellations with a binary classifier."
   ]
  },
  {
   "cell_type": "code",
   "execution_count": 1,
   "id": "ec0732ce",
   "metadata": {},
   "outputs": [],
   "source": [
    "# Setup plotting\n",
    "import matplotlib.pyplot as plt\n",
    "plt.style.use('seaborn-whitegrid')\n",
    "# Set Matplotlib defaults\n",
    "plt.rc('figure', autolayout=True)\n",
    "plt.rc('axes', labelweight='bold', labelsize='large',\n",
    "       titleweight='bold', titlesize=18, titlepad=10)\n",
    "plt.rc('animation', html='html5')"
   ]
  },
  {
   "cell_type": "markdown",
   "id": "f3623dc4",
   "metadata": {},
   "source": [
    "### Load dataset\n",
    "\n",
    "Load the Hotel Cancellations dataset."
   ]
  },
  {
   "cell_type": "code",
   "execution_count": 2,
   "id": "3d1271d0",
   "metadata": {},
   "outputs": [
    {
     "name": "stdout",
     "output_type": "stream",
     "text": [
      "[63]\n"
     ]
    }
   ],
   "source": [
    "import pandas as pd\n",
    "\n",
    "from sklearn.model_selection import train_test_split\n",
    "from sklearn.preprocessing import StandardScaler, OneHotEncoder\n",
    "from sklearn.impute import SimpleImputer\n",
    "from sklearn.pipeline import make_pipeline\n",
    "from sklearn.compose import make_column_transformer\n",
    "\n",
    "hotel = pd.read_csv('hotel.csv')\n",
    "\n",
    "X = hotel.copy()\n",
    "y = X.pop('is_canceled')\n",
    "\n",
    "X['arrival_date_month'] = \\\n",
    "    X['arrival_date_month'].map(\n",
    "        {'January':1, 'February': 2, 'March':3,\n",
    "         'April':4, 'May':5, 'June':6, 'July':7,\n",
    "         'August':8, 'September':9, 'October':10,\n",
    "         'November':11, 'December':12}\n",
    "    )\n",
    "\n",
    "features_num = [\n",
    "    \"lead_time\", \"arrival_date_week_number\",\n",
    "    \"arrival_date_day_of_month\", \"stays_in_weekend_nights\",\n",
    "    \"stays_in_week_nights\", \"adults\", \"children\", \"babies\",\n",
    "    \"is_repeated_guest\", \"previous_cancellations\",\n",
    "    \"previous_bookings_not_canceled\", \"required_car_parking_spaces\",\n",
    "    \"total_of_special_requests\", \"adr\",\n",
    "]\n",
    "features_cat = [\n",
    "    \"hotel\", \"arrival_date_month\", \"meal\",\n",
    "    \"market_segment\", \"distribution_channel\",\n",
    "    \"reserved_room_type\", \"deposit_type\", \"customer_type\",\n",
    "]\n",
    "\n",
    "transformer_num = make_pipeline(\n",
    "    SimpleImputer(strategy=\"constant\"), # there are a few missing values\n",
    "    StandardScaler(),\n",
    ")\n",
    "transformer_cat = make_pipeline(\n",
    "    SimpleImputer(strategy=\"constant\", fill_value=\"NA\"),\n",
    "    OneHotEncoder(handle_unknown='ignore'),\n",
    ")\n",
    "\n",
    "preprocessor = make_column_transformer(\n",
    "    (transformer_num, features_num),\n",
    "    (transformer_cat, features_cat),\n",
    ")\n",
    "\n",
    "# stratify - make sure classes are evenlly represented across splits\n",
    "X_train, X_valid, y_train, y_valid = \\\n",
    "    train_test_split(X, y, stratify=y, train_size=0.75)\n",
    "\n",
    "X_train = preprocessor.fit_transform(X_train)\n",
    "X_valid = preprocessor.transform(X_valid)\n",
    "\n",
    "input_shape = [X_train.shape[1]]\n",
    "\n",
    "print(input_shape)"
   ]
  },
  {
   "cell_type": "markdown",
   "id": "abe61864",
   "metadata": {},
   "source": [
    "# 1) Define Model #\n",
    "\n",
    "The model we'll use this time will have both batch normalization and dropout layers. To ease reading we've broken the diagram into blocks, but you can define it layer by layer as usual.\n",
    "\n",
    "Define a model with an architecture given by this diagram:\n",
    "\n",
    "<figure style=\"padding: 1em;\">\n",
    "<img src=\"https://i.imgur.com/V04o59Z.png\" width=\"400\" alt=\"Diagram of network architecture: BatchNorm, Dense, BatchNorm, Dropout, Dense, BatchNorm, Dropout, Dense.\">\n",
    "<figcaption style=\"textalign: center; font-style: italic\"><center>Diagram of a binary classifier.</center></figcaption>\n",
    "</figure>\n"
   ]
  },
  {
   "cell_type": "code",
   "execution_count": 3,
   "id": "dc7db223",
   "metadata": {},
   "outputs": [],
   "source": [
    "from tensorflow import keras\n",
    "from tensorflow.keras import layers\n",
    "\n",
    "# define the model given in the diagram\n",
    "model = keras.Sequential([\n",
    "\n",
    "    layers.BatchNormalization(),\n",
    "    \n",
    "    layers.Dense(256, activation='relu'),\n",
    "    layers.BatchNormalization(),\n",
    "    layers.Dropout(0.3),\n",
    "    \n",
    "    layers.Dense(256, activation='relu'),\n",
    "    layers.BatchNormalization(),\n",
    "    layers.Dropout(0.3),\n",
    "\n",
    "    layers.Dense(1, activation='sigmoid')\n",
    "])"
   ]
  },
  {
   "cell_type": "markdown",
   "id": "d5e8efbc",
   "metadata": {},
   "source": [
    "### Add Optimizer, Loss, and Metric #\n",
    "\n",
    "Now compile the model with the Adam optimizer and binary versions of the cross-entropy loss and accuracy metric."
   ]
  },
  {
   "cell_type": "code",
   "execution_count": 4,
   "id": "9658d1a0",
   "metadata": {},
   "outputs": [],
   "source": [
    "model.compile(\n",
    "    optimizer='adam',\n",
    "    loss='binary_crossentropy',\n",
    "    metrics=['binary_accuracy'],\n",
    ")"
   ]
  },
  {
   "cell_type": "markdown",
   "id": "418efd25",
   "metadata": {},
   "source": [
    "### Train the model with early stopping and view the learning curves. It may run for around 60 to 70 epochs"
   ]
  },
  {
   "cell_type": "code",
   "execution_count": 5,
   "id": "8be64e18",
   "metadata": {},
   "outputs": [
    {
     "name": "stdout",
     "output_type": "stream",
     "text": [
      "Epoch 1/200\n",
      "175/175 [==============================] - 3s 12ms/step - loss: 0.4836 - binary_accuracy: 0.7709 - val_loss: 0.4340 - val_binary_accuracy: 0.7997\n",
      "Epoch 2/200\n",
      "175/175 [==============================] - 2s 10ms/step - loss: 0.4226 - binary_accuracy: 0.8005 - val_loss: 0.4016 - val_binary_accuracy: 0.8146\n",
      "Epoch 3/200\n",
      "175/175 [==============================] - 2s 11ms/step - loss: 0.4108 - binary_accuracy: 0.8073 - val_loss: 0.3916 - val_binary_accuracy: 0.8178\n",
      "Epoch 4/200\n",
      "175/175 [==============================] - 2s 10ms/step - loss: 0.4028 - binary_accuracy: 0.8111 - val_loss: 0.3881 - val_binary_accuracy: 0.8204\n",
      "Epoch 5/200\n",
      "175/175 [==============================] - 2s 10ms/step - loss: 0.3977 - binary_accuracy: 0.8152 - val_loss: 0.3868 - val_binary_accuracy: 0.8234\n",
      "Epoch 6/200\n",
      "175/175 [==============================] - 2s 10ms/step - loss: 0.3934 - binary_accuracy: 0.8169 - val_loss: 0.3803 - val_binary_accuracy: 0.8274\n",
      "Epoch 7/200\n",
      "175/175 [==============================] - 2s 11ms/step - loss: 0.3895 - binary_accuracy: 0.8185 - val_loss: 0.3769 - val_binary_accuracy: 0.8272\n",
      "Epoch 8/200\n",
      "175/175 [==============================] - 2s 12ms/step - loss: 0.3864 - binary_accuracy: 0.8202 - val_loss: 0.3743 - val_binary_accuracy: 0.8281\n",
      "Epoch 9/200\n",
      "175/175 [==============================] - 2s 10ms/step - loss: 0.3834 - binary_accuracy: 0.8221 - val_loss: 0.3723 - val_binary_accuracy: 0.8289\n",
      "Epoch 10/200\n",
      "175/175 [==============================] - 2s 10ms/step - loss: 0.3806 - binary_accuracy: 0.8235 - val_loss: 0.3721 - val_binary_accuracy: 0.8313\n",
      "Epoch 11/200\n",
      "175/175 [==============================] - 2s 11ms/step - loss: 0.3772 - binary_accuracy: 0.8265 - val_loss: 0.3718 - val_binary_accuracy: 0.8326\n",
      "Epoch 12/200\n",
      "175/175 [==============================] - 2s 10ms/step - loss: 0.3756 - binary_accuracy: 0.8256 - val_loss: 0.3651 - val_binary_accuracy: 0.8339\n",
      "Epoch 13/200\n",
      "175/175 [==============================] - 2s 10ms/step - loss: 0.3730 - binary_accuracy: 0.8275 - val_loss: 0.3659 - val_binary_accuracy: 0.8327\n",
      "Epoch 14/200\n",
      "175/175 [==============================] - 2s 11ms/step - loss: 0.3715 - binary_accuracy: 0.8269 - val_loss: 0.3654 - val_binary_accuracy: 0.8333\n",
      "Epoch 15/200\n",
      "175/175 [==============================] - 2s 11ms/step - loss: 0.3696 - binary_accuracy: 0.8297 - val_loss: 0.3633 - val_binary_accuracy: 0.8331\n",
      "Epoch 16/200\n",
      "175/175 [==============================] - 2s 11ms/step - loss: 0.3667 - binary_accuracy: 0.8301 - val_loss: 0.3646 - val_binary_accuracy: 0.8329\n",
      "Epoch 17/200\n",
      "175/175 [==============================] - 2s 11ms/step - loss: 0.3648 - binary_accuracy: 0.8326 - val_loss: 0.3610 - val_binary_accuracy: 0.8331\n",
      "Epoch 18/200\n",
      "175/175 [==============================] - 2s 10ms/step - loss: 0.3638 - binary_accuracy: 0.8314 - val_loss: 0.3597 - val_binary_accuracy: 0.8354\n",
      "Epoch 19/200\n",
      "175/175 [==============================] - 2s 10ms/step - loss: 0.3617 - binary_accuracy: 0.8334 - val_loss: 0.3591 - val_binary_accuracy: 0.8354\n",
      "Epoch 20/200\n",
      "175/175 [==============================] - 2s 10ms/step - loss: 0.3607 - binary_accuracy: 0.8338 - val_loss: 0.3583 - val_binary_accuracy: 0.8362\n",
      "Epoch 21/200\n",
      "175/175 [==============================] - 2s 10ms/step - loss: 0.3590 - binary_accuracy: 0.8338 - val_loss: 0.3583 - val_binary_accuracy: 0.8354\n",
      "Epoch 22/200\n",
      "175/175 [==============================] - 2s 10ms/step - loss: 0.3576 - binary_accuracy: 0.8354 - val_loss: 0.3569 - val_binary_accuracy: 0.8386\n",
      "Epoch 23/200\n",
      "175/175 [==============================] - 2s 10ms/step - loss: 0.3559 - binary_accuracy: 0.8347 - val_loss: 0.3564 - val_binary_accuracy: 0.8379\n",
      "Epoch 24/200\n",
      "175/175 [==============================] - 2s 10ms/step - loss: 0.3557 - binary_accuracy: 0.8349 - val_loss: 0.3576 - val_binary_accuracy: 0.8373\n",
      "Epoch 25/200\n",
      "175/175 [==============================] - 2s 11ms/step - loss: 0.3537 - binary_accuracy: 0.8369 - val_loss: 0.3538 - val_binary_accuracy: 0.8386\n",
      "Epoch 26/200\n",
      "175/175 [==============================] - 2s 10ms/step - loss: 0.3522 - binary_accuracy: 0.8374 - val_loss: 0.3532 - val_binary_accuracy: 0.8372\n",
      "Epoch 27/200\n",
      "175/175 [==============================] - 2s 10ms/step - loss: 0.3517 - binary_accuracy: 0.8372 - val_loss: 0.3546 - val_binary_accuracy: 0.8374\n",
      "Epoch 28/200\n",
      "175/175 [==============================] - 2s 10ms/step - loss: 0.3503 - binary_accuracy: 0.8386 - val_loss: 0.3536 - val_binary_accuracy: 0.8386\n",
      "Epoch 29/200\n",
      "175/175 [==============================] - 2s 10ms/step - loss: 0.3497 - binary_accuracy: 0.8388 - val_loss: 0.3515 - val_binary_accuracy: 0.8392\n",
      "Epoch 30/200\n",
      "175/175 [==============================] - 2s 10ms/step - loss: 0.3476 - binary_accuracy: 0.8387 - val_loss: 0.3537 - val_binary_accuracy: 0.8385\n",
      "Epoch 31/200\n",
      "175/175 [==============================] - 2s 10ms/step - loss: 0.3485 - binary_accuracy: 0.8383 - val_loss: 0.3537 - val_binary_accuracy: 0.8387\n",
      "Epoch 32/200\n",
      "175/175 [==============================] - 2s 10ms/step - loss: 0.3466 - binary_accuracy: 0.8395 - val_loss: 0.3508 - val_binary_accuracy: 0.8395\n",
      "Epoch 33/200\n",
      "175/175 [==============================] - 2s 11ms/step - loss: 0.3465 - binary_accuracy: 0.8405 - val_loss: 0.3512 - val_binary_accuracy: 0.8391\n",
      "Epoch 34/200\n",
      "175/175 [==============================] - 2s 11ms/step - loss: 0.3444 - binary_accuracy: 0.8404 - val_loss: 0.3492 - val_binary_accuracy: 0.8401\n",
      "Epoch 35/200\n",
      "175/175 [==============================] - 2s 11ms/step - loss: 0.3421 - binary_accuracy: 0.8410 - val_loss: 0.3495 - val_binary_accuracy: 0.8394\n",
      "Epoch 36/200\n",
      "175/175 [==============================] - 2s 10ms/step - loss: 0.3427 - binary_accuracy: 0.8420 - val_loss: 0.3543 - val_binary_accuracy: 0.8390\n",
      "Epoch 37/200\n",
      "175/175 [==============================] - 2s 10ms/step - loss: 0.3406 - binary_accuracy: 0.8424 - val_loss: 0.3505 - val_binary_accuracy: 0.8410\n",
      "Epoch 38/200\n",
      "175/175 [==============================] - 2s 10ms/step - loss: 0.3420 - binary_accuracy: 0.8416 - val_loss: 0.3518 - val_binary_accuracy: 0.8394\n",
      "Epoch 39/200\n",
      "175/175 [==============================] - 2s 10ms/step - loss: 0.3406 - binary_accuracy: 0.8433 - val_loss: 0.3503 - val_binary_accuracy: 0.8397\n"
     ]
    },
    {
     "data": {
      "text/plain": [
       "<AxesSubplot:title={'center':'Accuracy'}>"
      ]
     },
     "execution_count": 5,
     "metadata": {},
     "output_type": "execute_result"
    },
    {
     "data": {
      "image/png": "[encoded data removed]",
      "text/plain": [
       "<Figure size 432x288 with 1 Axes>"
      ]
     },
     "metadata": {},
     "output_type": "display_data"
    },
    {
     "data": {
      "image/png": "[encoded data removed]",
      "text/plain": [
       "<Figure size 432x288 with 1 Axes>"
      ]
     },
     "metadata": {},
     "output_type": "display_data"
    }
   ],
   "source": [
    "early_stopping = keras.callbacks.EarlyStopping(\n",
    "    patience=5,\n",
    "    min_delta=0.001,\n",
    "    restore_best_weights=True,\n",
    ")\n",
    "history = model.fit(\n",
    "    X_train, y_train,\n",
    "    validation_data=(X_valid, y_valid),\n",
    "    batch_size=512,\n",
    "    epochs=200,\n",
    "    callbacks=[early_stopping],\n",
    ")\n",
    "\n",
    "history_df = pd.DataFrame(history.history)\n",
    "history_df.loc[:, ['loss', 'val_loss']].plot(title=\"Cross-entropy\")\n",
    "history_df.loc[:, ['binary_accuracy', 'val_binary_accuracy']].plot(title=\"Accuracy\")"
   ]
  },
  {
   "cell_type": "markdown",
   "id": "1e1f87fb",
   "metadata": {},
   "source": [
    "### Evaluate\n",
    "\n",
    "\n",
    "What do you think about the learning curves? Does it look like the model underfit or overfit? Was the cross-entropy loss a good stand-in for accuracy?"
   ]
  },
  {
   "cell_type": "markdown",
   "id": "ca29c0eb",
   "metadata": {},
   "source": [
    "Though we can see the training loss continuing to fall, the early stopping callback prevented any overfitting. \n",
    "Moreover, the accuracy rose at the same rate as the cross-entropy fell, so it appears that minimizing cross-entropy was a good stand-in. \n",
    "All in all, it looks like this training was a success!"
   ]
  }
 ],
 "metadata": {
  "kernelspec": {
   "display_name": "Python 3 (ipykernel)",
   "language": "python",
   "name": "python3"
  },
  "language_info": {
   "codemirror_mode": {
    "name": "ipython",
    "version": 3
   },
   "file_extension": ".py",
   "mimetype": "text/x-python",
   "name": "python",
   "nbconvert_exporter": "python",
   "pygments_lexer": "ipython3",
   "version": "3.9.12"
  }
 },
 "nbformat": 4,
 "nbformat_minor": 5
}
